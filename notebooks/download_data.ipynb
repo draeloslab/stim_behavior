{
 "cells": [
  {
   "attachments": {},
   "cell_type": "markdown",
   "metadata": {},
   "source": [
    "To download data from the experiment 'Single-trial neural dynamics are dominated by richly varied movements. by Churchland et al. \n",
    "\n",
    "'https://labshare.cshl.edu/shares/library/repository/38599/"
   ]
  },
  {
   "attachments": {},
   "cell_type": "markdown",
   "metadata": {},
   "source": [
    "Use \n",
    "\n",
    "```wget -r -np -nH --cut-dirs=4 --accept-regex '.*\\/SVD_Cam.*-Seg.*\\.mat' --reject 'index.html' https://labshare.cshl.edu/shares/library/repository/38599/2pData/Animals/mSM49/SpatialDisc/30-Jul-2018/BehaviorVideo/ -P /home/sachinks/Data/raw/mouse-cshl```\n",
    "\n",
    "command to download the data using terminal"
   ]
  },
  {
   "attachments": {},
   "cell_type": "markdown",
   "metadata": {},
   "source": [
    "The following code downloads the requested data using python"
   ]
  },
  {
   "cell_type": "code",
   "execution_count": 107,
   "metadata": {},
   "outputs": [],
   "source": [
    "import requests\n",
    "from bs4 import BeautifulSoup\n",
    "from urllib.parse import urljoin\n",
    "import re\n",
    "import pandas as pd\n",
    "import os\n",
    "import yaml"
   ]
  },
  {
   "cell_type": "code",
   "execution_count": 136,
   "metadata": {},
   "outputs": [],
   "source": [
    "with open(f'../configs/download_data_2.yaml', 'r') as file:\n",
    "    config = yaml.safe_load(file)\n",
    "    base_url = config['path']['base_url']\n",
    "    pattern_url = config['path']['pattern_url']\n",
    "    file_list = config['path']['file_list']\n",
    "    output_dir = config['path']['output']"
   ]
  },
  {
   "cell_type": "code",
   "execution_count": 142,
   "metadata": {},
   "outputs": [],
   "source": [
    "def find_paths(base_url, pattern_url):\n",
    "    def is_valid_path(href):\n",
    "        if href.startswith('/shares/'): # skip looking at parent directory\n",
    "            return False\n",
    "        if href.startswith('?'): # irrelevant files\n",
    "            return False\n",
    "        return True\n",
    "\n",
    "    matching_paths = []\n",
    "\n",
    "    def find_files_recursive(url):\n",
    "        # Send an HTTP GET request to the URL\n",
    "        response = requests.get(url)\n",
    "\n",
    "        # Check if the request was successful (status code 200)\n",
    "        if response.status_code == 200:\n",
    "            # Parse the HTML content\n",
    "            soup = BeautifulSoup(response.text, \"html.parser\")\n",
    "\n",
    "            # Find all links on the page\n",
    "            links = soup.find_all(\"a\")\n",
    "\n",
    "            for link in links:\n",
    "                # Get the URL\n",
    "                href = link.get(\"href\")\n",
    "\n",
    "                # Join the URL with the base URL to get the complete path\n",
    "                file_url = urljoin(url, href)\n",
    "\n",
    "                if not is_valid_path(href):\n",
    "                    continue\n",
    "                \n",
    "                # Check if the URL matches the specified pattern\n",
    "                if re.match(pattern_url, file_url):\n",
    "                    matching_paths.append(file_url)\n",
    "                    print(f'{len(matching_paths)}: {file_url}')\n",
    "                    continue\n",
    "\n",
    "                if href.endswith('/'):\n",
    "                    find_files_recursive(file_url)\n",
    "        else:\n",
    "            print(\"Failed to retrieve the webpage:\", url)\n",
    "\n",
    "    # Start the recursive search from the base URL\n",
    "    find_files_recursive(base_url)\n",
    "\n",
    "    return matching_paths\n"
   ]
  },
  {
   "cell_type": "code",
   "execution_count": 144,
   "metadata": {},
   "outputs": [
    {
     "name": "stdout",
     "output_type": "stream",
     "text": [
      "Precomputed values do not exist. Searching it...\n",
      "1: https://labshare.cshl.edu/shares/library/repository/38599/2pData/Animals/RS02/SpatialDisc/15-Nov-2018/\n",
      "2: https://labshare.cshl.edu/shares/library/repository/38599/2pData/Animals/RS04/SpatialDisc/01-Nov-2018/\n",
      "3: https://labshare.cshl.edu/shares/library/repository/38599/2pData/Animals/RS04/SpatialDisc/13-Nov-2018/\n",
      "4: https://labshare.cshl.edu/shares/library/repository/38599/2pData/Animals/RS04/SpatialDisc/30-Oct-2018/\n",
      "5: https://labshare.cshl.edu/shares/library/repository/38599/2pData/Animals/mSM49/SpatialDisc/03-Aug-2018/\n",
      "6: https://labshare.cshl.edu/shares/library/repository/38599/2pData/Animals/mSM49/SpatialDisc/07-Aug-2018/\n",
      "7: https://labshare.cshl.edu/shares/library/repository/38599/2pData/Animals/mSM49/SpatialDisc/14-Sep-2018/\n",
      "8: https://labshare.cshl.edu/shares/library/repository/38599/2pData/Animals/mSM49/SpatialDisc/21-Sep-2018/\n",
      "9: https://labshare.cshl.edu/shares/library/repository/38599/2pData/Animals/mSM49/SpatialDisc/30-Jul-2018/\n",
      "10: https://labshare.cshl.edu/shares/library/repository/38599/2pData/Animals/mSM60/SpatialDisc/06-Sep-2018/\n",
      "11: https://labshare.cshl.edu/shares/library/repository/38599/2pData/Animals/mSM60/SpatialDisc/10-May-2018/\n",
      "12: https://labshare.cshl.edu/shares/library/repository/38599/2pData/Animals/mSM60/SpatialDisc/11-Aug-2018/\n",
      "13: https://labshare.cshl.edu/shares/library/repository/38599/2pData/Animals/mSM60/SpatialDisc/14-Sep-2018/\n",
      "14: https://labshare.cshl.edu/shares/library/repository/38599/2pData/Animals/mSM60/SpatialDisc/15-May-2018/\n",
      "15: https://labshare.cshl.edu/shares/library/repository/38599/2pData/Animals/mSM60/SpatialDisc/17-May-2018/\n",
      "16: https://labshare.cshl.edu/shares/library/repository/38599/2pData/Animals/mSM60/SpatialDisc/18-Sep-2018/\n",
      "17: https://labshare.cshl.edu/shares/library/repository/38599/2pData/Animals/mSM60/SpatialDisc/22-Sep-2018/\n",
      "18: https://labshare.cshl.edu/shares/library/repository/38599/2pData/Animals/mSM60/SpatialDisc/24-Aug-2018/\n",
      "19: https://labshare.cshl.edu/shares/library/repository/38599/2pData/Animals/mSM60/SpatialDisc/25-Sep-2018/\n",
      "20: https://labshare.cshl.edu/shares/library/repository/38599/2pData/Animals/mSM60/SpatialDisc/27-Sep-2018/\n",
      "21: https://labshare.cshl.edu/shares/library/repository/38599/2pData/Animals/mSM61/SpatialDisc/05-Sep-2018/\n",
      "22: https://labshare.cshl.edu/shares/library/repository/38599/2pData/Animals/mSM61/SpatialDisc/06-Jun-2018/\n",
      "23: https://labshare.cshl.edu/shares/library/repository/38599/2pData/Animals/mSM61/SpatialDisc/07-Sep-2018/\n",
      "24: https://labshare.cshl.edu/shares/library/repository/38599/2pData/Animals/mSM61/SpatialDisc/08-Jun-2018/\n",
      "25: https://labshare.cshl.edu/shares/library/repository/38599/2pData/Animals/mSM61/SpatialDisc/11-Sep-2018/\n",
      "26: https://labshare.cshl.edu/shares/library/repository/38599/2pData/Animals/mSM61/SpatialDisc/12-Jun-2018/\n",
      "27: https://labshare.cshl.edu/shares/library/repository/38599/2pData/Animals/mSM61/SpatialDisc/15-Jun-2018/\n",
      "28: https://labshare.cshl.edu/shares/library/repository/38599/2pData/Animals/mSM61/SpatialDisc/19-Jul-2018/\n",
      "29: https://labshare.cshl.edu/shares/library/repository/38599/2pData/Animals/mSM61/SpatialDisc/21-May-2018/\n",
      "30: https://labshare.cshl.edu/shares/library/repository/38599/2pData/Animals/mSM61/SpatialDisc/22-Jun-2018/\n",
      "31: https://labshare.cshl.edu/shares/library/repository/38599/2pData/Animals/mSM61/SpatialDisc/24-Aug-2018/\n",
      "32: https://labshare.cshl.edu/shares/library/repository/38599/2pData/Animals/mSM61/SpatialDisc/25-May-2018/\n",
      "33: https://labshare.cshl.edu/shares/library/repository/38599/2pData/Animals/mSM61/SpatialDisc/27-Aug-2018/\n",
      "34: https://labshare.cshl.edu/shares/library/repository/38599/2pData/Animals/mSM61/SpatialDisc/27-Jun-2018/\n",
      "35: https://labshare.cshl.edu/shares/library/repository/38599/2pData/Animals/mSM61/SpatialDisc/31-Aug-2018/\n",
      "36: https://labshare.cshl.edu/shares/library/repository/38599/2pData/Animals/mSM62/SpatialDisc/11-Jul-2018/\n",
      "37: https://labshare.cshl.edu/shares/library/repository/38599/2pData/Animals/mSM62/SpatialDisc/12-Jul-2018/\n",
      "38: https://labshare.cshl.edu/shares/library/repository/38599/2pData/Animals/mSM62/SpatialDisc/14-Jul-2018/\n",
      "39: https://labshare.cshl.edu/shares/library/repository/38599/2pData/Animals/mSM62/SpatialDisc/16-Jul-2018/\n",
      "40: https://labshare.cshl.edu/shares/library/repository/38599/2pData/Animals/mSM62/SpatialDisc/17-Jul-2018/\n",
      "41: https://labshare.cshl.edu/shares/library/repository/38599/2pData/Animals/mSM62/SpatialDisc/19-Jul-2018/\n",
      "42: https://labshare.cshl.edu/shares/library/repository/38599/2pData/Animals/mSM62/SpatialDisc/20-Jul-2018/\n",
      "43: https://labshare.cshl.edu/shares/library/repository/38599/2pData/Animals/mSM62/SpatialDisc/22-Jul-2018/\n",
      "44: https://labshare.cshl.edu/shares/library/repository/38599/2pData/Animals/mSM62/SpatialDisc/24-Jul-2018/\n",
      "45: https://labshare.cshl.edu/shares/library/repository/38599/2pData/Animals/mSM62/SpatialDisc/26-May-2018/\n",
      "46: https://labshare.cshl.edu/shares/library/repository/38599/2pData/Animals/mSM67/SpatialDisc/01-Aug-2018/\n",
      "47: https://labshare.cshl.edu/shares/library/repository/38599/2pData/Animals/mSM67/SpatialDisc/02-Aug-2018/\n",
      "48: https://labshare.cshl.edu/shares/library/repository/38599/2pData/Animals/mSM67/SpatialDisc/04-Aug-2018/\n",
      "49: https://labshare.cshl.edu/shares/library/repository/38599/2pData/Animals/mSM67/SpatialDisc/07-Aug-2018/\n",
      "50: https://labshare.cshl.edu/shares/library/repository/38599/2pData/Animals/mSM67/SpatialDisc/09-Aug-2018/\n",
      "51: https://labshare.cshl.edu/shares/library/repository/38599/2pData/Animals/mSM67/SpatialDisc/11-Aug-2018/\n",
      "52: https://labshare.cshl.edu/shares/library/repository/38599/2pData/Animals/mSM67/SpatialDisc/13-Aug-2018/\n",
      "53: https://labshare.cshl.edu/shares/library/repository/38599/2pData/Animals/mSM67/SpatialDisc/27-Jul-2018/\n",
      "54: https://labshare.cshl.edu/shares/library/repository/38599/2pData/Animals/mSM67/SpatialDisc/28-Jul-2018/\n",
      "55: https://labshare.cshl.edu/shares/library/repository/38599/2pData/Animals/mSM67/SpatialDisc/29-Jul-2018/\n",
      "56: https://labshare.cshl.edu/shares/library/repository/38599/2pData/Animals/mSM74/SpatialDisc/02-Oct-2018/\n",
      "57: https://labshare.cshl.edu/shares/library/repository/38599/2pData/Animals/mSM74/SpatialDisc/04-Oct-2018/\n",
      "58: https://labshare.cshl.edu/shares/library/repository/38599/2pData/Animals/mSM74/SpatialDisc/12-Oct-2018/\n",
      "59: https://labshare.cshl.edu/shares/library/repository/38599/2pData/Animals/mSM75/SpatialDisc/03-Oct-2018/\n",
      "60: https://labshare.cshl.edu/shares/library/repository/38599/2pData/Animals/mSM75/SpatialDisc/05-Oct-2018/\n",
      "61: https://labshare.cshl.edu/shares/library/repository/38599/2pData/Animals/mSM75/SpatialDisc/09-Oct-2018/\n",
      "62: https://labshare.cshl.edu/shares/library/repository/38599/2pData/Animals/mSM75/SpatialDisc/11-Oct-2018/\n",
      "63: https://labshare.cshl.edu/shares/library/repository/38599/2pData/Animals/mSM76/SpatialDisc/03-Aug-2018/\n",
      "64: https://labshare.cshl.edu/shares/library/repository/38599/2pData/Animals/mSM76/SpatialDisc/07-Aug-2018/\n",
      "65: https://labshare.cshl.edu/shares/library/repository/38599/2pData/Animals/mSM76/SpatialDisc/08-Aug-2018/\n",
      "66: https://labshare.cshl.edu/shares/library/repository/38599/2pData/Animals/mSM76/SpatialDisc/10-Aug-2018/\n",
      "67: https://labshare.cshl.edu/shares/library/repository/38599/2pData/Animals/mSM76/SpatialDisc/14-Aug-2018/\n",
      "68: https://labshare.cshl.edu/shares/library/repository/38599/2pData/Animals/mSM76/SpatialDisc/18-Aug-2018/\n",
      "69: https://labshare.cshl.edu/shares/library/repository/38599/2pData/Animals/mSM76/SpatialDisc/20-Aug-2018/\n",
      "70: https://labshare.cshl.edu/shares/library/repository/38599/2pData/Animals/mSM76/SpatialDisc/22-Aug-2018/\n",
      "71: https://labshare.cshl.edu/shares/library/repository/38599/2pData/Animals/mSM76/SpatialDisc/24-Aug-2018/\n"
     ]
    }
   ],
   "source": [
    "# Check if the file exists\n",
    "if os.path.exists(file_list):\n",
    "    print(\"Precomputed values already exist. Loading it...\")\n",
    "    # Load the file content into a DataFrame\n",
    "    df = pd.read_csv(file_list)\n",
    "    matching_paths = df.iloc[:, 0].values.tolist()\n",
    "else:\n",
    "    print(\"Precomputed values do not exist. Searching it...\")\n",
    "    matching_paths = find_paths(base_url, pattern_url)\n",
    "    df = pd.DataFrame(matching_paths)\n",
    "    df.to_csv(file_list, index=False, header=False)\n"
   ]
  },
  {
   "cell_type": "code",
   "execution_count": 102,
   "metadata": {},
   "outputs": [
    {
     "name": "stdout",
     "output_type": "stream",
     "text": [
      "https://labshare.cshl.edu/shares/library/repository/38599/2pData/Animals/RS02/SpatialDisc/15-Nov-2018/BehaviorVideo/SVD_Cam1-Seg1.mat\n",
      "Downloaded: https://labshare.cshl.edu/shares/library/repository/38599/2pData/Animals/RS02/SpatialDisc/15-Nov-2018/BehaviorVideo/SVD_Cam1-Seg1.mat\n",
      "https://labshare.cshl.edu/shares/library/repository/38599/2pData/Animals/RS02/SpatialDisc/15-Nov-2018/BehaviorVideo/SVD_Cam1-Seg2.mat\n",
      "Downloaded: https://labshare.cshl.edu/shares/library/repository/38599/2pData/Animals/RS02/SpatialDisc/15-Nov-2018/BehaviorVideo/SVD_Cam1-Seg2.mat\n"
     ]
    }
   ],
   "source": [
    "import requests\n",
    "\n",
    "# List of URLs to download\n",
    "urls = matching_paths[:2]\n",
    "\n",
    "# Loop through the list of URLs and download each one\n",
    "for url in urls:\n",
    "    file_path = url.split(\"/\")\n",
    "    file_path = [file_path[-7], file_path[-5], file_path[-3], file_path[-2], file_path[-1]]\n",
    "    file_path = '/'.join(file_path)\n",
    "\n",
    "    # Create the full path to save the file\n",
    "    file_path = f'{output_dir}/{file_path}'\n",
    "\n",
    "    # Send an HTTP GET request to the URL\n",
    "    response = requests.get(url)\n",
    "\n",
    "    # Check if the request was successful (status code 200)\n",
    "    if response.status_code == 200:\n",
    "        # Save the content to a local file\n",
    "        directory = os.path.dirname(file_path)\n",
    "\n",
    "        # Check if the directory exists, and if not, create it\n",
    "        if not os.path.exists(directory):\n",
    "            os.makedirs(directory)\n",
    "\n",
    "        with open(file_path, 'wb') as file:\n",
    "            file.write(response.content)\n",
    "        print(f\"Downloaded: {url}\")\n",
    "    else:\n",
    "        print(f\"Failed to download: {url}\")"
   ]
  }
 ],
 "metadata": {
  "kernelspec": {
   "display_name": "dlc-live",
   "language": "python",
   "name": "python3"
  },
  "language_info": {
   "codemirror_mode": {
    "name": "ipython",
    "version": 3
   },
   "file_extension": ".py",
   "mimetype": "text/x-python",
   "name": "python",
   "nbconvert_exporter": "python",
   "pygments_lexer": "ipython3",
   "version": "3.7.16"
  },
  "orig_nbformat": 4
 },
 "nbformat": 4,
 "nbformat_minor": 2
}
