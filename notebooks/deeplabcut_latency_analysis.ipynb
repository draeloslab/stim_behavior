{
 "cells": [
  {
   "cell_type": "code",
   "execution_count": 1,
   "metadata": {},
   "outputs": [
    {
     "name": "stderr",
     "output_type": "stream",
     "text": [
      "2024-01-25 19:29:42.046021: I tensorflow/core/platform/cpu_feature_guard.cc:193] This TensorFlow binary is optimized with oneAPI Deep Neural Network Library (oneDNN) to use the following CPU instructions in performance-critical operations:  AVX2 AVX_VNNI FMA\n",
      "To enable them in other operations, rebuild TensorFlow with the appropriate compiler flags.\n",
      "2024-01-25 19:29:42.111518: I tensorflow/core/util/util.cc:169] oneDNN custom operations are on. You may see slightly different numerical results due to floating-point round-off errors from different computation orders. To turn them off, set the environment variable `TF_ENABLE_ONEDNN_OPTS=0`.\n",
      "2024-01-25 19:29:42.114313: W tensorflow/stream_executor/platform/default/dso_loader.cc:64] Could not load dynamic library 'libcudart.so.11.0'; dlerror: libcudart.so.11.0: cannot open shared object file: No such file or directory\n",
      "2024-01-25 19:29:42.114321: I tensorflow/stream_executor/cuda/cudart_stub.cc:29] Ignore above cudart dlerror if you do not have a GPU set up on your machine.\n",
      "2024-01-25 19:29:42.127576: E tensorflow/stream_executor/cuda/cuda_blas.cc:2981] Unable to register cuBLAS factory: Attempting to register factory for plugin cuBLAS when one has already been registered\n",
      "2024-01-25 19:29:42.362176: W tensorflow/stream_executor/platform/default/dso_loader.cc:64] Could not load dynamic library 'libnvinfer.so.7'; dlerror: libnvinfer.so.7: cannot open shared object file: No such file or directory\n",
      "2024-01-25 19:29:42.362204: W tensorflow/stream_executor/platform/default/dso_loader.cc:64] Could not load dynamic library 'libnvinfer_plugin.so.7'; dlerror: libnvinfer_plugin.so.7: cannot open shared object file: No such file or directory\n",
      "2024-01-25 19:29:42.362206: W tensorflow/compiler/tf2tensorrt/utils/py_utils.cc:38] TF-TRT Warning: Cannot dlopen some TensorRT libraries. If you would like to use Nvidia GPU with TensorRT, please make sure the missing libraries mentioned above are installed properly.\n",
      "/home/sachinks/anaconda3/envs/real-time/lib/python3.9/site-packages/_distutils_hack/__init__.py:33: UserWarning: Setuptools is replacing distutils.\n",
      "  warnings.warn(\"Setuptools is replacing distutils.\")\n"
     ]
    }
   ],
   "source": [
    "import sys\n",
    "sys.path.append('..')\n",
    "\n",
    "import yaml\n",
    "import dlclive\n",
    "from utils.utils import *\n",
    "from utils.helpers import *\n",
    "import pickle\n",
    "import numpy as np\n",
    "import matplotlib.pyplot as plt\n",
    "from scipy import ndimage"
   ]
  },
  {
   "cell_type": "code",
   "execution_count": 2,
   "metadata": {},
   "outputs": [
    {
     "name": "stdout",
     "output_type": "stream",
     "text": [
      "/home/sachinks/Code/MyProjects/OctopusVideos/videos/right_cord_pinch_221216_124734_000-1.mp4\n"
     ]
    }
   ],
   "source": [
    "with open(f'../configs/latency.yaml', 'r') as file:\n",
    "    config = yaml.safe_load(file)\n",
    "root_dir = config['path']['root']\n",
    "video_dir = f\"{root_dir}/{config['path']['video']}\"\n",
    "model_path = f\"{root_dir}/{config['path']['model']}\"\n",
    "output_dir = f\"{root_dir}/{config['path']['output']}\"\n",
    "file_path = load_random_file(video_dir)\n",
    "print(file_path)"
   ]
  },
  {
   "cell_type": "code",
   "execution_count": 3,
   "metadata": {},
   "outputs": [
    {
     "name": "stdout",
     "output_type": "stream",
     "text": [
      "\n",
      "Run 1 / 1\n",
      "\n"
     ]
    },
    {
     "name": "stderr",
     "output_type": "stream",
     "text": [
      "2024-01-25 19:29:43.092974: I tensorflow/stream_executor/cuda/cuda_gpu_executor.cc:980] successful NUMA node read from SysFS had negative value (-1), but there must be at least one NUMA node, so returning NUMA node zero\n",
      "2024-01-25 19:29:43.093092: W tensorflow/stream_executor/platform/default/dso_loader.cc:64] Could not load dynamic library 'libcudart.so.11.0'; dlerror: libcudart.so.11.0: cannot open shared object file: No such file or directory; LD_LIBRARY_PATH: /home/sachinks/anaconda3/envs/real-time/lib/python3.9/site-packages/cv2/../../lib64:\n",
      "2024-01-25 19:29:43.093123: W tensorflow/stream_executor/platform/default/dso_loader.cc:64] Could not load dynamic library 'libcublas.so.11'; dlerror: libcublas.so.11: cannot open shared object file: No such file or directory; LD_LIBRARY_PATH: /home/sachinks/anaconda3/envs/real-time/lib/python3.9/site-packages/cv2/../../lib64:\n",
      "2024-01-25 19:29:43.093153: W tensorflow/stream_executor/platform/default/dso_loader.cc:64] Could not load dynamic library 'libcublasLt.so.11'; dlerror: libcublasLt.so.11: cannot open shared object file: No such file or directory; LD_LIBRARY_PATH: /home/sachinks/anaconda3/envs/real-time/lib/python3.9/site-packages/cv2/../../lib64:\n",
      "2024-01-25 19:29:43.093171: W tensorflow/stream_executor/platform/default/dso_loader.cc:64] Could not load dynamic library 'libcufft.so.10'; dlerror: libcufft.so.10: cannot open shared object file: No such file or directory; LD_LIBRARY_PATH: /home/sachinks/anaconda3/envs/real-time/lib/python3.9/site-packages/cv2/../../lib64:\n",
      "2024-01-25 19:29:43.112266: W tensorflow/stream_executor/platform/default/dso_loader.cc:64] Could not load dynamic library 'libcusparse.so.11'; dlerror: libcusparse.so.11: cannot open shared object file: No such file or directory; LD_LIBRARY_PATH: /home/sachinks/anaconda3/envs/real-time/lib/python3.9/site-packages/cv2/../../lib64:\n",
      "2024-01-25 19:29:43.112301: W tensorflow/stream_executor/platform/default/dso_loader.cc:64] Could not load dynamic library 'libcudnn.so.8'; dlerror: libcudnn.so.8: cannot open shared object file: No such file or directory; LD_LIBRARY_PATH: /home/sachinks/anaconda3/envs/real-time/lib/python3.9/site-packages/cv2/../../lib64:\n",
      "2024-01-25 19:29:43.112306: W tensorflow/core/common_runtime/gpu/gpu_device.cc:1934] Cannot dlopen some GPU libraries. Please make sure the missing libraries mentioned above are installed properly if you would like to use GPU. Follow the guide at https://www.tensorflow.org/install/gpu for how to download and setup the required libraries for your platform.\n",
      "Skipping registering GPU devices...\n",
      "2024-01-25 19:29:43.112644: I tensorflow/core/platform/cpu_feature_guard.cc:193] This TensorFlow binary is optimized with oneAPI Deep Neural Network Library (oneDNN) to use the following CPU instructions in performance-critical operations:  AVX2 AVX_VNNI FMA\n",
      "To enable them in other operations, rebuild TensorFlow with the appropriate compiler flags.\n",
      "2024-01-25 19:29:43.120282: I tensorflow/compiler/mlir/mlir_graph_optimization_pass.cc:354] MLIR V1 optimization pass is not enabled\n",
      "100%|██████████| 708/708 [00:37<00:00, 18.77it/s]\n"
     ]
    },
    {
     "name": "stdout",
     "output_type": "stream",
     "text": [
      "WARNING:tensorflow:From /home/sachinks/anaconda3/envs/real-time/lib/python3.9/site-packages/dlclive/benchmark.py:121: is_gpu_available (from tensorflow.python.framework.test_util) is deprecated and will be removed in a future version.\n",
      "Instructions for updating:\n",
      "Use `tf.config.list_physical_devices('GPU')` instead.\n"
     ]
    },
    {
     "name": "stderr",
     "output_type": "stream",
     "text": [
      "fatal: not a git repository (or any of the parent directories): .git\n",
      "2024-01-25 19:30:21.023722: I tensorflow/stream_executor/cuda/cuda_gpu_executor.cc:980] successful NUMA node read from SysFS had negative value (-1), but there must be at least one NUMA node, so returning NUMA node zero\n",
      "2024-01-25 19:30:21.024023: W tensorflow/core/common_runtime/gpu/gpu_device.cc:1934] Cannot dlopen some GPU libraries. Please make sure the missing libraries mentioned above are installed properly if you would like to use GPU. Follow the guide at https://www.tensorflow.org/install/gpu for how to download and setup the required libraries for your platform.\n",
      "Skipping registering GPU devices...\n"
     ]
    }
   ],
   "source": [
    "dlclive.benchmark_videos(model_path, [file_path], output=output_dir, resize=[1])"
   ]
  },
  {
   "cell_type": "code",
   "execution_count": null,
   "metadata": {},
   "outputs": [],
   "source": [
    "'''\n",
    "Refer to https://deeplabcut.github.io/DLC-inferencespeed-benchmark/ for benchmark\n",
    "'''\n",
    "\n",
    "def smooth_data(data, kernel_size = 20):\n",
    "    kernel = np.ones(kernel_size) / kernel_size\n",
    "    data_convolved = ndimage.convolve(data, kernel)\n",
    "    return data_convolved\n",
    "\n",
    "\n",
    "file_path = f'{output_dir}/benchmark_ceres_CPU_3.pickle'\n",
    "\n",
    "with open(file_path, 'rb') as file:\n",
    "    data = pickle.load(file)\n",
    "\n",
    "idx = 0 # only considering one video size at a time\n",
    "\n",
    "inference_times = data['inference_times']\n",
    "latency = inference_times[idx, :]\n",
    "latency = latency[np.nonzero(latency)]\n",
    "latency_fps = 1/latency\n",
    "\n",
    "print(\"====================\")\n",
    "print(\"Latency\")\n",
    "print(f\"In ms: {1e3*latency.mean():.2f} ± {1e3*latency.std():.2f} ms\")\n",
    "print(f\"In fps: {latency_fps.mean():.1f} ± {latency_fps.std():.1f} fps\")\n",
    "print(\"====================\")\n",
    "\n",
    "\n",
    "print()\n",
    "print(\"====================\")\n",
    "print(\"SYSTEM INFO\")\n",
    "print(f\"OS: {data['op_sys']}\")\n",
    "print(f\"{data['device_type']}: {data['device']}\")\n",
    "print(\"====================\")\n",
    "\n",
    "print()\n",
    "print(\"====================\")\n",
    "print(\"VIDEO INFO\")\n",
    "filename = data['video_path'].split('\\\\')[-1]\n",
    "print(f\"File: {filename}\")\n",
    "video_size = data['im_size'][idx]\n",
    "print(f\"Video Frame Size: {video_size[0]}x{video_size[1]}\")\n",
    "print(f\"FPS: {data['video_fps']}Hz\")\n",
    "print(\"====================\")\n",
    "\n",
    "print()\n",
    "print(f\"Model: {data['model_type']}\")\n",
    "\n",
    "latency_smoothed = smooth_data(latency)\n",
    "X = range(len(latency))\n",
    "plt.plot(latency_smoothed, linewidth=3, alpha=0.8)\n",
    "plt.scatter(X, latency, s=2)\n",
    "plt.plot()\n",
    "plt.xlabel('Frame index')\n",
    "plt.ylabel('Latency (s)')\n",
    "plt.title(f\"Video Frame Size: {video_size[0]}x{video_size[1]}\")\n",
    "# plt.show()\n",
    "data.pop('inference_times')\n",
    "# data['']\n",
    "print(data)"
   ]
  }
 ],
 "metadata": {
  "kernelspec": {
   "display_name": "dlc-live",
   "language": "python",
   "name": "python3"
  },
  "language_info": {
   "codemirror_mode": {
    "name": "ipython",
    "version": 3
   },
   "file_extension": ".py",
   "mimetype": "text/x-python",
   "name": "python",
   "nbconvert_exporter": "python",
   "pygments_lexer": "ipython3",
   "version": "3.9.18"
  },
  "orig_nbformat": 4
 },
 "nbformat": 4,
 "nbformat_minor": 2
}
