{
 "cells": [
  {
   "cell_type": "code",
   "execution_count": null,
   "metadata": {},
   "outputs": [],
   "source": [
    "import sys\n",
    "sys.path.append('..')\n",
    "\n",
    "import yaml\n",
    "import dlclive\n",
    "from utils.utils import *\n",
    "from utils.helpers import *\n",
    "import pickle\n",
    "import numpy as np\n",
    "import matplotlib.pyplot as plt\n",
    "from scipy import ndimage"
   ]
  },
  {
   "cell_type": "code",
   "execution_count": null,
   "metadata": {},
   "outputs": [],
   "source": [
    "with open(f'../configs/latency.yaml', 'r') as file:\n",
    "    config = yaml.safe_load(file)\n",
    "root_dir = config['path']['root']\n",
    "video_dir = f\"{root_dir}/{config['path']['video']}\"\n",
    "model_path = f\"{root_dir}/{config['path']['model']}\"\n",
    "output_dir = f\"{root_dir}/{config['path']['output']}\"\n",
    "file_path = load_random_file(video_dir)"
   ]
  },
  {
   "cell_type": "code",
   "execution_count": null,
   "metadata": {},
   "outputs": [],
   "source": [
    "dlclive.benchmark_videos(model_path, [file_path], output=output_dir, resize=[1])\n"
   ]
  },
  {
   "cell_type": "code",
   "execution_count": null,
   "metadata": {},
   "outputs": [],
   "source": [
    "'''\n",
    "Refer to https://deeplabcut.github.io/DLC-inferencespeed-benchmark/ for benchmark\n",
    "'''\n",
    "\n",
    "def smooth_data(data, kernel_size = 20):\n",
    "    kernel = np.ones(kernel_size) / kernel_size\n",
    "    # data_convolved = np.convolve(data, kernel, mode='same')\n",
    "    data_convolved = ndimage.convolve(data, kernel)\n",
    "    return data_convolved\n",
    "\n",
    "\n",
    "file_path = f'{output_dir}/benchmark_ceres_CPU_3.pickle'\n",
    "\n",
    "with open(file_path, 'rb') as file:\n",
    "    data = pickle.load(file)\n",
    "\n",
    "idx = 0 # only considering one video size at a time\n",
    "\n",
    "inference_times = data['inference_times']\n",
    "latency = inference_times[idx, :]\n",
    "latency = latency[np.nonzero(latency)]\n",
    "latency_fps = 1/latency\n",
    "\n",
    "print(\"====================\")\n",
    "print(\"Latency\")\n",
    "print(f\"In ms: {1e3*latency.mean():.2f} ± {1e3*latency.std():.2f} ms\")\n",
    "print(f\"In fps: {latency_fps.mean():.1f} ± {latency_fps.std():.1f} fps\")\n",
    "print(\"====================\")\n",
    "\n",
    "\n",
    "print()\n",
    "print(\"====================\")\n",
    "print(\"SYSTEM INFO\")\n",
    "print(f\"OS: {data['op_sys']}\")\n",
    "print(f\"{data['device_type']}: {data['device']}\")\n",
    "print(\"====================\")\n",
    "\n",
    "print()\n",
    "print(\"====================\")\n",
    "print(\"VIDEO INFO\")\n",
    "filename = data['video_path'].split('\\\\')[-1]\n",
    "print(f\"File: {filename}\")\n",
    "video_size = data['im_size'][idx]\n",
    "print(f\"Video Frame Size: {video_size[0]}x{video_size[1]}\")\n",
    "print(f\"FPS: {data['video_fps']}Hz\")\n",
    "print(\"====================\")\n",
    "\n",
    "print()\n",
    "print(f\"Model: {data['model_type']}\")\n",
    "\n",
    "latency_smoothed = smooth_data(latency)\n",
    "X = range(len(latency))\n",
    "plt.plot(latency_smoothed, linewidth=3, alpha=0.8)\n",
    "plt.scatter(X, latency, s=2)\n",
    "plt.plot()\n",
    "plt.xlabel('Frame index')\n",
    "plt.ylabel('Latency (s)')\n",
    "plt.title(f\"Video Frame Size: {video_size[0]}x{video_size[1]}\")\n",
    "# plt.show()\n",
    "data.pop('inference_times')\n",
    "# data['']\n",
    "print(data)\n",
    "\n",
    "\n",
    "# (Pdb) data.keys()\n",
    "# dict_keys(['model', 'model_type', 'TFGPUinference', 'im_size', 'inference_times', 'stats', 'host_name', 'op_sys', 'python', 'device_type', 'device', 'freeze', 'python_version', 'git_hash', 'dlclive_version', 'video_path', 'video_codec', 'video_pixel_format', 'video_fps', 'video_total_frames', 'original_frame_size', 'dlclive_params'])"
   ]
  },
  {
   "cell_type": "code",
   "execution_count": null,
   "metadata": {},
   "outputs": [],
   "source": [
    "plt.plot(1e3*latency_smoothed, linewidth=3, alpha=0.8)\n",
    "# plt.scatter(X, latency, s=2)\n",
    "plt.plot()\n",
    "plt.xlabel('Frame index')\n",
    "plt.ylabel('Latency (ms)')\n",
    "plt.title(f\"Latency Analysis of DLC for a sample octopus video\")\n",
    "# plt.show()\n",
    "data.pop('inference_times')\n",
    "# data['']\n",
    "print(data)"
   ]
  },
  {
   "cell_type": "code",
   "execution_count": null,
   "metadata": {},
   "outputs": [],
   "source": []
  }
 ],
 "metadata": {
  "kernelspec": {
   "display_name": "dlc-live",
   "language": "python",
   "name": "python3"
  },
  "language_info": {
   "codemirror_mode": {
    "name": "ipython",
    "version": 3
   },
   "file_extension": ".py",
   "mimetype": "text/x-python",
   "name": "python",
   "nbconvert_exporter": "python",
   "pygments_lexer": "ipython3",
   "version": "3.10.9"
  },
  "orig_nbformat": 4
 },
 "nbformat": 4,
 "nbformat_minor": 2
}
