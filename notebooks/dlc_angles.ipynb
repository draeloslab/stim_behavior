{
 "cells": [
  {
   "cell_type": "code",
   "execution_count": 14,
   "metadata": {},
   "outputs": [],
   "source": [
    "import numpy as np\n",
    "import pandas as pd\n",
    "import matplotlib.pyplot as plt\n",
    "# Load the data\n",
    "data = pd.read_csv(\"Z:/Data/Monkeys/War Machine/2023-08-17/Videos/Deeplabcut/MVI_0288DLC_resnet50_RhodesInRigWithMarksAug18shuffle1_300000.csv\", skiprows=3, header=None)"
   ]
  },
  {
   "cell_type": "code",
   "execution_count": 15,
   "metadata": {},
   "outputs": [],
   "source": [
    "#Initialize variables\n",
    "stimCmds = [0,20,40,60,\t80,\t100,110,120,130,140,150,170,190,210,230,250]\n",
    "stimTimes = [21, 28, 35, 41, 57, 64, 75, 81, 88, 94, 101 ,109 ,116, 124, 133, 140]\n",
    "label1 = [\"Forearm\", \"Wrist\", \"Hand\", \"MCP\", \"PIP\", \"DIP\"]\n",
    "label2 = [\"x\", \"y\", \"likelihood\"]\n",
    "videoHeight = 720\n",
    "fps = 29.97\n",
    "threshold = 0.75\n",
    "window = 30\n",
    "#flip y pixels\n",
    "data.iloc[:,2::3] = videoHeight - data.iloc[:,2::3]"
   ]
  },
  {
   "cell_type": "code",
   "execution_count": 22,
   "metadata": {},
   "outputs": [
    {
     "data": {
      "text/plain": [
       "45.00000000000001"
      ]
     },
     "execution_count": 22,
     "metadata": {},
     "output_type": "execute_result"
    }
   ],
   "source": [
    "def calculate_angle(p1,p2, p3):\n",
    "    #Calculate the angle at p2\n",
    "    #Calculate the vectors\n",
    "    v1 = np.array(p1) - np.array(p2)\n",
    "    v2 = np.array(p3) - np.array(p2)\n",
    "    #Calculate the angle\n",
    "    angle = np.arccos(np.dot(v1,v2) / (np.linalg.norm(v1) * np.linalg.norm(v2)))\n",
    "    #Convert to degrees\n",
    "    angle = np.degrees(angle)\n",
    "    return angle\n",
    "\n",
    "calculate_angle((1,0),(0,0),(0.5,0.5))"
   ]
  }
 ],
 "metadata": {
  "kernelspec": {
   "display_name": "base",
   "language": "python",
   "name": "python3"
  },
  "language_info": {
   "codemirror_mode": {
    "name": "ipython",
    "version": 3
   },
   "file_extension": ".py",
   "mimetype": "text/x-python",
   "name": "python",
   "nbconvert_exporter": "python",
   "pygments_lexer": "ipython3",
   "version": "3.9.5"
  }
 },
 "nbformat": 4,
 "nbformat_minor": 2
}
