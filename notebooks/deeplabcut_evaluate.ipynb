{
  "cells": [
    {
      "cell_type": "code",
      "execution_count": null,
      "metadata": {
        "colab": {
          "base_uri": "https://localhost:8080/"
        },
        "id": "3K9Ndy1beyfG",
        "outputId": "78eb7159-f218-4f02-f652-b05fa4704e6e"
      },
      "outputs": [],
      "source": [
        "import deeplabcut"
      ]
    },
    {
      "cell_type": "code",
      "execution_count": null,
      "metadata": {
        "colab": {
          "base_uri": "https://localhost:8080/"
        },
        "id": "vhENAlQnFENJ",
        "outputId": "0110032a-2421-4458-a122-f50782d02d55"
      },
      "outputs": [],
      "source": [
        "ROOT_DIR = '/home/sachinks/Code/MyProjects'\n",
        "\n",
        "VideoType = 'mp4' \n",
        "\n",
        "video_orig_path = [f'/home/sachinks/Data/processed/mouse-cshl/video/mSM61'] # list of input videos or folder to analyze.\n",
        "video_info_path = '/home/sachinks/Data/output/mouse-cshl/videos' # folder for storing analysis data and labelled videos\n",
        "\n",
        "cfg_path = '/home/sachinks/Code/MyProjects/Churchland-Sachin-2023-11-05/config.yaml'"
      ]
    },
    {
      "cell_type": "code",
      "execution_count": null,
      "metadata": {
        "colab": {
          "base_uri": "https://localhost:8080/",
          "height": 1000
        },
        "id": "Y_LZiS_0oEJl",
        "outputId": "3ec0f166-c64b-4759-88a4-324677ccebfc"
      },
      "outputs": [],
      "source": [
        "deeplabcut.analyze_videos(cfg_path, video_orig_path, destfolder=video_info_path, videotype=VideoType)"
      ]
    },
    {
      "cell_type": "code",
      "execution_count": null,
      "metadata": {
        "colab": {
          "base_uri": "https://localhost:8080/",
          "height": 307
        },
        "id": "gX21zZbXoEKJ",
        "outputId": "af3b0782-b863-4a7c-a261-5c583bbdeb3e"
      },
      "outputs": [],
      "source": [
        "deeplabcut.plot_trajectories(cfg_path, videos=video_orig_path, destfolder=video_info_path, videotype=VideoType);"
      ]
    },
    {
      "cell_type": "code",
      "execution_count": null,
      "metadata": {
        "colab": {
          "base_uri": "https://localhost:8080/"
        },
        "id": "6aDF7Q7KoEKE",
        "outputId": "fe593033-3134-44fb-b180-b04b5d5825ae"
      },
      "outputs": [],
      "source": [
        "deeplabcut.create_labeled_video(cfg_path, videos=video_orig_path, destfolder=video_info_path, videotype=VideoType, dotsize=8,\n",
        "    colormap=\"rainbow\",  alphavalue=0.5, overwrite=False,)"
      ]
    }
  ],
  "metadata": {
    "accelerator": "GPU",
    "colab": {
      "gpuType": "T4",
      "provenance": []
    },
    "kernelspec": {
      "display_name": "Python 3",
      "name": "python3"
    },
    "language_info": {
      "codemirror_mode": {
        "name": "ipython",
        "version": 3
      },
      "file_extension": ".py",
      "mimetype": "text/x-python",
      "name": "python",
      "nbconvert_exporter": "python",
      "pygments_lexer": "ipython3",
      "version": "3.8.16"
    },
    "vscode": {
      "interpreter": {
        "hash": "70cad038f2bddb56e8a0ba66c48b76ebce20579892bf83e71733a81977e3ceea"
      }
    }
  },
  "nbformat": 4,
  "nbformat_minor": 0
}
