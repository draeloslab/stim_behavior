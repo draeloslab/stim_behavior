{
  "cells": [
    {
      "cell_type": "code",
      "execution_count": null,
      "metadata": {
        "colab": {
          "base_uri": "https://localhost:8080/"
        },
        "id": "3K9Ndy1beyfG",
        "outputId": "78eb7159-f218-4f02-f652-b05fa4704e6e"
      },
      "outputs": [],
      "source": [
        "import deeplabcut"
      ]
    },
    {
      "cell_type": "code",
      "execution_count": null,
      "metadata": {
        "colab": {
          "base_uri": "https://localhost:8080/"
        },
        "id": "vhENAlQnFENJ",
        "outputId": "0110032a-2421-4458-a122-f50782d02d55"
      },
      "outputs": [],
      "source": [
        "ROOT_DIR = '/home/sachinks/Code/MyProjects'\n",
        "\n",
        "VideoType = 'mp4' \n",
        "\n",
        "cfg_path = '/home/sachinks/Code/MyProjects/Churchland-Sachin-2023-11-05/config.yaml'\n",
        "\n",
        "NET_TYPE = 'resnet_50' # 'mobilenet_v2_0.35'"
      ]
    },
    {
      "cell_type": "code",
      "execution_count": null,
      "metadata": {
        "colab": {
          "base_uri": "https://localhost:8080/"
        },
        "id": "eMeUwgxPoEJP",
        "outputId": "85bcd710-5dce-476f-b357-b96e3ae7a1bc",
        "scrolled": true
      },
      "outputs": [],
      "source": [
        "deeplabcut.create_training_dataset(cfg_path, net_type=NET_TYPE, augmenter_type='imgaug')"
      ]
    },
    {
      "cell_type": "code",
      "execution_count": null,
      "metadata": {
        "colab": {
          "base_uri": "https://localhost:8080/"
        },
        "id": "_pOvDq_2oEJW",
        "outputId": "f9835868-266e-4adf-f1b7-4a415d790a5f"
      },
      "outputs": [],
      "source": [
        "deeplabcut.train_network(cfg_path, shuffle=1, displayiters=1000,saveiters=10000, maxiters=150_000,\n",
        "                         max_snapshots_to_keep=2)"
      ]
    },
    {
      "cell_type": "code",
      "execution_count": null,
      "metadata": {
        "colab": {
          "base_uri": "https://localhost:8080/",
          "height": 309
        },
        "id": "nv4zlbrnoEJg",
        "outputId": "5c89dfdc-0889-46c3-ad97-16042b1c423f"
      },
      "outputs": [],
      "source": [
        "deeplabcut.evaluate_network(cfg_path, plotting=True)"
      ]
    },
    {
      "cell_type": "code",
      "execution_count": null,
      "metadata": {
        "colab": {
          "base_uri": "https://localhost:8080/"
        },
        "id": "qEonwOLpKFuJ",
        "outputId": "09ee75c0-de56-4c5d-aec3-db11653380f5"
      },
      "outputs": [],
      "source": [
        "deeplabcut.export_model(cfg_path)"
      ]
    }
  ],
  "metadata": {
    "accelerator": "GPU",
    "colab": {
      "gpuType": "T4",
      "provenance": []
    },
    "kernelspec": {
      "display_name": "Python 3",
      "name": "python3"
    },
    "language_info": {
      "codemirror_mode": {
        "name": "ipython",
        "version": 3
      },
      "file_extension": ".py",
      "mimetype": "text/x-python",
      "name": "python",
      "nbconvert_exporter": "python",
      "pygments_lexer": "ipython3",
      "version": "3.8.16"
    },
    "vscode": {
      "interpreter": {
        "hash": "70cad038f2bddb56e8a0ba66c48b76ebce20579892bf83e71733a81977e3ceea"
      }
    }
  },
  "nbformat": 4,
  "nbformat_minor": 0
}
