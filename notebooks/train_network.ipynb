{
  "cells": [
    {
      "cell_type": "code",
      "execution_count": 10,
      "metadata": {
        "colab": {
          "base_uri": "https://localhost:8080/"
        },
        "id": "3K9Ndy1beyfG",
        "outputId": "78eb7159-f218-4f02-f652-b05fa4704e6e"
      },
      "outputs": [],
      "source": [
        "import deeplabcut"
      ]
    },
    {
      "cell_type": "code",
      "execution_count": 11,
      "metadata": {
        "colab": {
          "base_uri": "https://localhost:8080/"
        },
        "id": "vhENAlQnFENJ",
        "outputId": "0110032a-2421-4458-a122-f50782d02d55"
      },
      "outputs": [
        {
          "name": "stdout",
          "output_type": "stream",
          "text": [
            "['/home/sachinks/Code/MyProjects/videos-to-analyze/original']\n",
            "/home/sachinks/Code/MyProjects/Tent6-Sachin-2023-06-06/config.yaml\n"
          ]
        }
      ],
      "source": [
        "ROOT_DIR = '/home/sachinks/Code/MyProjects'\n",
        "\n",
        "VideoType = 'mp4' \n",
        "\n",
        "video_orig_path = [f'{ROOT_DIR}/videos-to-analyze/original'] #Enter the list of videos or folder to analyze.\n",
        "video_label_path = f'{ROOT_DIR}/videos-to-analyze/labelled/'\n",
        "video_info_path = f'{ROOT_DIR}/videos-to-analyze/info/'\n",
        "print(video_orig_path)\n",
        "\n",
        "path_config_file = f'{ROOT_DIR}/Tent6-Sachin-2023-06-06/config.yaml'\n",
        "print(path_config_file)\n",
        "\n",
        "NET_TYPE = 'resnet_50' # 'mobilenet_v2_0.35'"
      ]
    },
    {
      "cell_type": "code",
      "execution_count": 3,
      "metadata": {
        "colab": {
          "base_uri": "https://localhost:8080/"
        },
        "id": "eMeUwgxPoEJP",
        "outputId": "85bcd710-5dce-476f-b357-b96e3ae7a1bc",
        "scrolled": true
      },
      "outputs": [
        {
          "name": "stdout",
          "output_type": "stream",
          "text": [
            "The training dataset is successfully created. Use the function 'train_network' to start training. Happy training!\n"
          ]
        },
        {
          "data": {
            "text/plain": [
              "[(0.95,\n",
              "  1,\n",
              "  (array([120,  33,  45, 126,  83,   8,  52, 104,  22, 113,  48,  97,  24,\n",
              "           76,  43,  90,  54,  68, 131,  92,   7,  26,  95,  10,  62, 100,\n",
              "           16,   2,  51,  63,  85,  50,  30, 114,  71,  61,  56, 112, 129,\n",
              "           13,  44, 118,  59,  84,  15,  60,  40, 106, 132,   3, 105, 111,\n",
              "            6, 101, 107, 109,  73, 123,  78,  66,  96, 108,  27,  18, 133,\n",
              "           11,  86,  91,  41,  93,   1,  89, 122,  42,   4,  17,  38,   5,\n",
              "           53, 128, 115,   0,  34,  28,  55,  75,  35,  23,  74,  31,  94,\n",
              "           57, 110, 121,  32, 119,  14,  98,  19,  29,  49, 116,  99,  82,\n",
              "           64, 134,  79,  69,  80,  20, 130,  72,  77,  25,  37,  81, 124,\n",
              "           46, 127,  39, 102,  65,  58,  12, 125,  88,  70,  87]),\n",
              "   array([ 36,  21,   9, 103,  67, 117,  47])))]"
            ]
          },
          "execution_count": 3,
          "metadata": {},
          "output_type": "execute_result"
        }
      ],
      "source": [
        "deeplabcut.create_training_dataset(path_config_file, net_type=NET_TYPE, augmenter_type='imgaug')"
      ]
    },
    {
      "cell_type": "code",
      "execution_count": 4,
      "metadata": {
        "colab": {
          "base_uri": "https://localhost:8080/"
        },
        "id": "_pOvDq_2oEJW",
        "outputId": "f9835868-266e-4adf-f1b7-4a415d790a5f"
      },
      "outputs": [
        {
          "name": "stderr",
          "output_type": "stream",
          "text": [
            "Config:\n",
            "{'all_joints': [[0], [1], [2], [3], [4]],\n",
            " 'all_joints_names': ['b1', 'b2', 'b3', 'b4', 'b5'],\n",
            " 'alpha_r': 0.02,\n",
            " 'apply_prob': 0.5,\n",
            " 'batch_size': 1,\n",
            " 'contrast': {'clahe': True,\n",
            "              'claheratio': 0.1,\n",
            "              'histeq': True,\n",
            "              'histeqratio': 0.1},\n",
            " 'convolution': {'edge': False,\n",
            "                 'emboss': {'alpha': [0.0, 1.0], 'strength': [0.5, 1.5]},\n",
            "                 'embossratio': 0.1,\n",
            "                 'sharpen': False,\n",
            "                 'sharpenratio': 0.3},\n",
            " 'crop_pad': 0,\n",
            " 'cropratio': 0.4,\n",
            " 'dataset': 'training-datasets/iteration-0/UnaugmentedDataSet_Tent6Jun6/Tent6_Sachin95shuffle1.mat',\n",
            " 'dataset_type': 'imgaug',\n",
            " 'decay_steps': 30000,\n",
            " 'deterministic': False,\n",
            " 'display_iters': 1000,\n",
            " 'fg_fraction': 0.25,\n",
            " 'global_scale': 0.8,\n",
            " 'init_weights': '/home/sachinks/anaconda3/envs/DEEPLABCUT/lib/python3.8/site-packages/deeplabcut/pose_estimation_tensorflow/models/pretrained/resnet_v1_50.ckpt',\n",
            " 'intermediate_supervision': False,\n",
            " 'intermediate_supervision_layer': 12,\n",
            " 'location_refinement': True,\n",
            " 'locref_huber_loss': True,\n",
            " 'locref_loss_weight': 0.05,\n",
            " 'locref_stdev': 7.2801,\n",
            " 'log_dir': 'log',\n",
            " 'lr_init': 0.0005,\n",
            " 'max_input_size': 1500,\n",
            " 'mean_pixel': [123.68, 116.779, 103.939],\n",
            " 'metadataset': 'training-datasets/iteration-0/UnaugmentedDataSet_Tent6Jun6/Documentation_data-Tent6_95shuffle1.pickle',\n",
            " 'min_input_size': 64,\n",
            " 'mirror': False,\n",
            " 'multi_stage': False,\n",
            " 'multi_step': [[0.005, 10000],\n",
            "                [0.02, 430000],\n",
            "                [0.002, 730000],\n",
            "                [0.001, 1030000]],\n",
            " 'net_type': 'resnet_50',\n",
            " 'num_joints': 5,\n",
            " 'optimizer': 'sgd',\n",
            " 'pairwise_huber_loss': False,\n",
            " 'pairwise_predict': False,\n",
            " 'partaffinityfield_predict': False,\n",
            " 'pos_dist_thresh': 17,\n",
            " 'project_path': '/home/sachinks/Code/MyProjects/Tent6-Sachin-2023-06-06',\n",
            " 'regularize': False,\n",
            " 'rotation': 25,\n",
            " 'rotratio': 0.4,\n",
            " 'save_iters': 50000,\n",
            " 'scale_jitter_lo': 0.5,\n",
            " 'scale_jitter_up': 1.25,\n",
            " 'scoremap_dir': 'test',\n",
            " 'shuffle': True,\n",
            " 'snapshot_prefix': '/home/sachinks/Code/MyProjects/Tent6-Sachin-2023-06-06/dlc-models/iteration-0/Tent6Jun6-trainset95shuffle1/train/snapshot',\n",
            " 'stride': 8.0,\n",
            " 'weigh_negatives': False,\n",
            " 'weigh_only_present_joints': False,\n",
            " 'weigh_part_predictions': False,\n",
            " 'weight_decay': 0.0001}\n"
          ]
        },
        {
          "name": "stdout",
          "output_type": "stream",
          "text": [
            "Selecting single-animal trainer\n",
            "Batch Size is 1\n"
          ]
        },
        {
          "name": "stderr",
          "output_type": "stream",
          "text": [
            "/home/sachinks/anaconda3/envs/DEEPLABCUT/lib/python3.8/site-packages/tensorflow/python/keras/engine/base_layer_v1.py:1694: UserWarning: `layer.apply` is deprecated and will be removed in a future version. Please use `layer.__call__` method instead.\n",
            "  warnings.warn('`layer.apply` is deprecated and '\n",
            "2023-06-12 17:54:00.359981: I tensorflow/stream_executor/cuda/cuda_gpu_executor.cc:980] successful NUMA node read from SysFS had negative value (-1), but there must be at least one NUMA node, so returning NUMA node zero\n",
            "2023-06-12 17:54:00.360110: W tensorflow/stream_executor/platform/default/dso_loader.cc:64] Could not load dynamic library 'libcudart.so.11.0'; dlerror: libcudart.so.11.0: cannot open shared object file: No such file or directory; LD_LIBRARY_PATH: /home/sachinks/anaconda3/envs/DEEPLABCUT/lib/python3.8/site-packages/cv2/../../lib64:\n",
            "2023-06-12 17:54:00.360139: W tensorflow/stream_executor/platform/default/dso_loader.cc:64] Could not load dynamic library 'libcublas.so.11'; dlerror: libcublas.so.11: cannot open shared object file: No such file or directory; LD_LIBRARY_PATH: /home/sachinks/anaconda3/envs/DEEPLABCUT/lib/python3.8/site-packages/cv2/../../lib64:\n",
            "2023-06-12 17:54:00.360157: W tensorflow/stream_executor/platform/default/dso_loader.cc:64] Could not load dynamic library 'libcublasLt.so.11'; dlerror: libcublasLt.so.11: cannot open shared object file: No such file or directory; LD_LIBRARY_PATH: /home/sachinks/anaconda3/envs/DEEPLABCUT/lib/python3.8/site-packages/cv2/../../lib64:\n",
            "2023-06-12 17:54:00.360176: W tensorflow/stream_executor/platform/default/dso_loader.cc:64] Could not load dynamic library 'libcufft.so.10'; dlerror: libcufft.so.10: cannot open shared object file: No such file or directory; LD_LIBRARY_PATH: /home/sachinks/anaconda3/envs/DEEPLABCUT/lib/python3.8/site-packages/cv2/../../lib64:\n",
            "2023-06-12 17:54:00.375412: W tensorflow/stream_executor/platform/default/dso_loader.cc:64] Could not load dynamic library 'libcusparse.so.11'; dlerror: libcusparse.so.11: cannot open shared object file: No such file or directory; LD_LIBRARY_PATH: /home/sachinks/anaconda3/envs/DEEPLABCUT/lib/python3.8/site-packages/cv2/../../lib64:\n",
            "2023-06-12 17:54:00.375447: W tensorflow/stream_executor/platform/default/dso_loader.cc:64] Could not load dynamic library 'libcudnn.so.8'; dlerror: libcudnn.so.8: cannot open shared object file: No such file or directory; LD_LIBRARY_PATH: /home/sachinks/anaconda3/envs/DEEPLABCUT/lib/python3.8/site-packages/cv2/../../lib64:\n",
            "2023-06-12 17:54:00.375451: W tensorflow/core/common_runtime/gpu/gpu_device.cc:1934] Cannot dlopen some GPU libraries. Please make sure the missing libraries mentioned above are installed properly if you would like to use GPU. Follow the guide at https://www.tensorflow.org/install/gpu for how to download and setup the required libraries for your platform.\n",
            "Skipping registering GPU devices...\n",
            "2023-06-12 17:54:00.376704: I tensorflow/core/platform/cpu_feature_guard.cc:193] This TensorFlow binary is optimized with oneAPI Deep Neural Network Library (oneDNN) to use the following CPU instructions in performance-critical operations:  AVX2 AVX_VNNI FMA\n",
            "To enable them in other operations, rebuild TensorFlow with the appropriate compiler flags.\n",
            "2023-06-12 17:54:00.527446: I tensorflow/stream_executor/cuda/cuda_gpu_executor.cc:980] successful NUMA node read from SysFS had negative value (-1), but there must be at least one NUMA node, so returning NUMA node zero\n",
            "2023-06-12 17:54:00.527516: W tensorflow/core/common_runtime/gpu/gpu_device.cc:1934] Cannot dlopen some GPU libraries. Please make sure the missing libraries mentioned above are installed properly if you would like to use GPU. Follow the guide at https://www.tensorflow.org/install/gpu for how to download and setup the required libraries for your platform.\n",
            "Skipping registering GPU devices...\n"
          ]
        },
        {
          "name": "stdout",
          "output_type": "stream",
          "text": [
            "Loading ImageNet-pretrained resnet_50\n"
          ]
        },
        {
          "name": "stderr",
          "output_type": "stream",
          "text": [
            "2023-06-12 17:54:00.976969: I tensorflow/compiler/mlir/mlir_graph_optimization_pass.cc:354] MLIR V1 optimization pass is not enabled\n"
          ]
        },
        {
          "name": "stdout",
          "output_type": "stream",
          "text": [
            "Max_iters overwritten as 150000\n",
            "Display_iters overwritten as 1000\n",
            "Save_iters overwritten as 10000\n",
            "Training parameter:\n",
            "{'stride': 8.0, 'weigh_part_predictions': False, 'weigh_negatives': False, 'fg_fraction': 0.25, 'mean_pixel': [123.68, 116.779, 103.939], 'shuffle': True, 'snapshot_prefix': '/home/sachinks/Code/MyProjects/Tent6-Sachin-2023-06-06/dlc-models/iteration-0/Tent6Jun6-trainset95shuffle1/train/snapshot', 'log_dir': 'log', 'global_scale': 0.8, 'location_refinement': True, 'locref_stdev': 7.2801, 'locref_loss_weight': 0.05, 'locref_huber_loss': True, 'optimizer': 'sgd', 'intermediate_supervision': False, 'intermediate_supervision_layer': 12, 'regularize': False, 'weight_decay': 0.0001, 'crop_pad': 0, 'scoremap_dir': 'test', 'batch_size': 1, 'dataset_type': 'imgaug', 'deterministic': False, 'mirror': False, 'pairwise_huber_loss': False, 'weigh_only_present_joints': False, 'partaffinityfield_predict': False, 'pairwise_predict': False, 'all_joints': [[0], [1], [2], [3], [4]], 'all_joints_names': ['b1', 'b2', 'b3', 'b4', 'b5'], 'alpha_r': 0.02, 'apply_prob': 0.5, 'contrast': {'clahe': True, 'claheratio': 0.1, 'histeq': True, 'histeqratio': 0.1, 'gamma': False, 'sigmoid': False, 'log': False, 'linear': False}, 'convolution': {'edge': False, 'emboss': {'alpha': [0.0, 1.0], 'strength': [0.5, 1.5]}, 'embossratio': 0.1, 'sharpen': False, 'sharpenratio': 0.3}, 'cropratio': 0.4, 'dataset': 'training-datasets/iteration-0/UnaugmentedDataSet_Tent6Jun6/Tent6_Sachin95shuffle1.mat', 'decay_steps': 30000, 'display_iters': 1000, 'init_weights': '/home/sachinks/anaconda3/envs/DEEPLABCUT/lib/python3.8/site-packages/deeplabcut/pose_estimation_tensorflow/models/pretrained/resnet_v1_50.ckpt', 'lr_init': 0.0005, 'max_input_size': 1500, 'metadataset': 'training-datasets/iteration-0/UnaugmentedDataSet_Tent6Jun6/Documentation_data-Tent6_95shuffle1.pickle', 'min_input_size': 64, 'multi_stage': False, 'multi_step': [[0.005, 10000], [0.02, 430000], [0.002, 730000], [0.001, 1030000]], 'net_type': 'resnet_50', 'num_joints': 5, 'pos_dist_thresh': 17, 'project_path': '/home/sachinks/Code/MyProjects/Tent6-Sachin-2023-06-06', 'rotation': 25, 'rotratio': 0.4, 'save_iters': 50000, 'scale_jitter_lo': 0.5, 'scale_jitter_up': 1.25, 'covering': True, 'elastic_transform': True, 'motion_blur': True, 'motion_blur_params': {'k': 7, 'angle': (-90, 90)}}\n",
            "Starting training....\n"
          ]
        },
        {
          "name": "stderr",
          "output_type": "stream",
          "text": [
            "iteration: 1000 loss: 0.0316 lr: 0.005\n",
            "iteration: 2000 loss: 0.0203 lr: 0.005\n",
            "iteration: 3000 loss: 0.0161 lr: 0.005\n",
            "iteration: 4000 loss: 0.0139 lr: 0.005\n",
            "iteration: 5000 loss: 0.0122 lr: 0.005\n",
            "iteration: 6000 loss: 0.0108 lr: 0.005\n",
            "iteration: 7000 loss: 0.0101 lr: 0.005\n",
            "iteration: 8000 loss: 0.0092 lr: 0.005\n",
            "iteration: 9000 loss: 0.0088 lr: 0.005\n",
            "iteration: 10000 loss: 0.0082 lr: 0.005\n",
            "iteration: 11000 loss: 0.0118 lr: 0.02\n",
            "iteration: 12000 loss: 0.0103 lr: 0.02\n",
            "iteration: 13000 loss: 0.0082 lr: 0.02\n",
            "iteration: 14000 loss: 0.0077 lr: 0.02\n",
            "iteration: 15000 loss: 0.0073 lr: 0.02\n",
            "iteration: 16000 loss: 0.0066 lr: 0.02\n",
            "iteration: 17000 loss: 0.0063 lr: 0.02\n",
            "iteration: 18000 loss: 0.0060 lr: 0.02\n",
            "iteration: 19000 loss: 0.0059 lr: 0.02\n",
            "iteration: 20000 loss: 0.0059 lr: 0.02\n",
            "iteration: 21000 loss: 0.0055 lr: 0.02\n",
            "iteration: 22000 loss: 0.0054 lr: 0.02\n",
            "iteration: 23000 loss: 0.0052 lr: 0.02\n",
            "iteration: 24000 loss: 0.0050 lr: 0.02\n",
            "iteration: 25000 loss: 0.0051 lr: 0.02\n",
            "iteration: 26000 loss: 0.0048 lr: 0.02\n",
            "iteration: 27000 loss: 0.0048 lr: 0.02\n",
            "iteration: 28000 loss: 0.0044 lr: 0.02\n",
            "iteration: 29000 loss: 0.0044 lr: 0.02\n",
            "iteration: 30000 loss: 0.0045 lr: 0.02\n",
            "iteration: 31000 loss: 0.0041 lr: 0.02\n",
            "iteration: 32000 loss: 0.0043 lr: 0.02\n",
            "iteration: 33000 loss: 0.0042 lr: 0.02\n",
            "iteration: 34000 loss: 0.0045 lr: 0.02\n",
            "iteration: 35000 loss: 0.0039 lr: 0.02\n",
            "iteration: 36000 loss: 0.0040 lr: 0.02\n",
            "iteration: 37000 loss: 0.0039 lr: 0.02\n",
            "iteration: 38000 loss: 0.0039 lr: 0.02\n",
            "iteration: 39000 loss: 0.0038 lr: 0.02\n",
            "iteration: 40000 loss: 0.0040 lr: 0.02\n",
            "iteration: 41000 loss: 0.0036 lr: 0.02\n",
            "iteration: 42000 loss: 0.0038 lr: 0.02\n",
            "iteration: 43000 loss: 0.0038 lr: 0.02\n",
            "iteration: 44000 loss: 0.0038 lr: 0.02\n",
            "iteration: 45000 loss: 0.0038 lr: 0.02\n",
            "iteration: 46000 loss: 0.0035 lr: 0.02\n",
            "iteration: 47000 loss: 0.0035 lr: 0.02\n",
            "iteration: 48000 loss: 0.0035 lr: 0.02\n",
            "iteration: 49000 loss: 0.0035 lr: 0.02\n",
            "iteration: 50000 loss: 0.0036 lr: 0.02\n",
            "iteration: 51000 loss: 0.0035 lr: 0.02\n",
            "iteration: 52000 loss: 0.0033 lr: 0.02\n",
            "iteration: 53000 loss: 0.0034 lr: 0.02\n",
            "iteration: 54000 loss: 0.0033 lr: 0.02\n",
            "iteration: 55000 loss: 0.0034 lr: 0.02\n",
            "iteration: 56000 loss: 0.0034 lr: 0.02\n",
            "iteration: 57000 loss: 0.0032 lr: 0.02\n",
            "iteration: 58000 loss: 0.0032 lr: 0.02\n",
            "iteration: 59000 loss: 0.0031 lr: 0.02\n",
            "iteration: 60000 loss: 0.0032 lr: 0.02\n",
            "iteration: 61000 loss: 0.0032 lr: 0.02\n",
            "iteration: 62000 loss: 0.0033 lr: 0.02\n",
            "iteration: 63000 loss: 0.0031 lr: 0.02\n",
            "iteration: 64000 loss: 0.0032 lr: 0.02\n",
            "iteration: 65000 loss: 0.0033 lr: 0.02\n",
            "iteration: 66000 loss: 0.0032 lr: 0.02\n",
            "iteration: 67000 loss: 0.0032 lr: 0.02\n",
            "iteration: 68000 loss: 0.0031 lr: 0.02\n",
            "iteration: 69000 loss: 0.0030 lr: 0.02\n",
            "iteration: 70000 loss: 0.0029 lr: 0.02\n",
            "iteration: 71000 loss: 0.0031 lr: 0.02\n",
            "iteration: 72000 loss: 0.0030 lr: 0.02\n",
            "iteration: 73000 loss: 0.0031 lr: 0.02\n",
            "iteration: 74000 loss: 0.0031 lr: 0.02\n",
            "iteration: 75000 loss: 0.0030 lr: 0.02\n",
            "iteration: 76000 loss: 0.0030 lr: 0.02\n",
            "iteration: 77000 loss: 0.0029 lr: 0.02\n",
            "iteration: 78000 loss: 0.0029 lr: 0.02\n",
            "iteration: 79000 loss: 0.0029 lr: 0.02\n",
            "iteration: 80000 loss: 0.0029 lr: 0.02\n",
            "iteration: 81000 loss: 0.0029 lr: 0.02\n",
            "iteration: 82000 loss: 0.0030 lr: 0.02\n",
            "iteration: 83000 loss: 0.0029 lr: 0.02\n",
            "iteration: 84000 loss: 0.0029 lr: 0.02\n",
            "iteration: 85000 loss: 0.0029 lr: 0.02\n",
            "iteration: 86000 loss: 0.0028 lr: 0.02\n",
            "iteration: 87000 loss: 0.0029 lr: 0.02\n",
            "iteration: 88000 loss: 0.0028 lr: 0.02\n",
            "iteration: 89000 loss: 0.0031 lr: 0.02\n",
            "iteration: 90000 loss: 0.0027 lr: 0.02\n",
            "iteration: 91000 loss: 0.0028 lr: 0.02\n",
            "iteration: 92000 loss: 0.0029 lr: 0.02\n",
            "iteration: 93000 loss: 0.0028 lr: 0.02\n",
            "iteration: 94000 loss: 0.0027 lr: 0.02\n",
            "iteration: 95000 loss: 0.0029 lr: 0.02\n",
            "iteration: 96000 loss: 0.0029 lr: 0.02\n",
            "iteration: 97000 loss: 0.0029 lr: 0.02\n",
            "iteration: 98000 loss: 0.0027 lr: 0.02\n",
            "iteration: 99000 loss: 0.0028 lr: 0.02\n",
            "iteration: 100000 loss: 0.0027 lr: 0.02\n",
            "iteration: 101000 loss: 0.0028 lr: 0.02\n",
            "iteration: 102000 loss: 0.0027 lr: 0.02\n",
            "iteration: 103000 loss: 0.0026 lr: 0.02\n",
            "iteration: 104000 loss: 0.0026 lr: 0.02\n",
            "iteration: 105000 loss: 0.0027 lr: 0.02\n",
            "iteration: 106000 loss: 0.0027 lr: 0.02\n",
            "iteration: 107000 loss: 0.0027 lr: 0.02\n",
            "iteration: 108000 loss: 0.0027 lr: 0.02\n",
            "iteration: 109000 loss: 0.0026 lr: 0.02\n",
            "iteration: 110000 loss: 0.0027 lr: 0.02\n",
            "iteration: 111000 loss: 0.0026 lr: 0.02\n",
            "iteration: 112000 loss: 0.0027 lr: 0.02\n",
            "iteration: 113000 loss: 0.0026 lr: 0.02\n",
            "iteration: 114000 loss: 0.0026 lr: 0.02\n",
            "iteration: 115000 loss: 0.0027 lr: 0.02\n",
            "iteration: 116000 loss: 0.0026 lr: 0.02\n",
            "iteration: 117000 loss: 0.0026 lr: 0.02\n",
            "iteration: 118000 loss: 0.0025 lr: 0.02\n",
            "iteration: 119000 loss: 0.0026 lr: 0.02\n",
            "iteration: 120000 loss: 0.0027 lr: 0.02\n",
            "iteration: 121000 loss: 0.0025 lr: 0.02\n",
            "iteration: 122000 loss: 0.0026 lr: 0.02\n",
            "iteration: 123000 loss: 0.0027 lr: 0.02\n",
            "iteration: 124000 loss: 0.0026 lr: 0.02\n",
            "iteration: 125000 loss: 0.0026 lr: 0.02\n",
            "iteration: 126000 loss: 0.0025 lr: 0.02\n",
            "iteration: 127000 loss: 0.0026 lr: 0.02\n",
            "iteration: 128000 loss: 0.0026 lr: 0.02\n",
            "iteration: 129000 loss: 0.0025 lr: 0.02\n",
            "iteration: 130000 loss: 0.0025 lr: 0.02\n",
            "iteration: 131000 loss: 0.0025 lr: 0.02\n",
            "iteration: 132000 loss: 0.0026 lr: 0.02\n",
            "iteration: 133000 loss: 0.0025 lr: 0.02\n",
            "iteration: 134000 loss: 0.0025 lr: 0.02\n",
            "iteration: 135000 loss: 0.0025 lr: 0.02\n",
            "iteration: 136000 loss: 0.0025 lr: 0.02\n",
            "iteration: 137000 loss: 0.0025 lr: 0.02\n",
            "iteration: 138000 loss: 0.0026 lr: 0.02\n",
            "iteration: 139000 loss: 0.0026 lr: 0.02\n",
            "iteration: 140000 loss: 0.0025 lr: 0.02\n",
            "iteration: 141000 loss: 0.0024 lr: 0.02\n",
            "iteration: 142000 loss: 0.0027 lr: 0.02\n",
            "iteration: 143000 loss: 0.0024 lr: 0.02\n",
            "iteration: 144000 loss: 0.0024 lr: 0.02\n",
            "iteration: 145000 loss: 0.0026 lr: 0.02\n",
            "iteration: 146000 loss: 0.0025 lr: 0.02\n",
            "iteration: 147000 loss: 0.0025 lr: 0.02\n",
            "iteration: 148000 loss: 0.0023 lr: 0.02\n",
            "iteration: 149000 loss: 0.0026 lr: 0.02\n",
            "iteration: 150000 loss: 0.0025 lr: 0.02\n",
            "2023-06-13 11:47:41.593279: W tensorflow/core/kernels/queue_base.cc:277] _0_fifo_queue: Skipping cancelled enqueue attempt with queue not closed\n",
            "Exception in thread Thread-4:\n",
            "Traceback (most recent call last):\n",
            "  File \"/home/sachinks/anaconda3/envs/DEEPLABCUT/lib/python3.8/site-packages/tensorflow/python/client/session.py\", line 1378, in _do_call\n",
            "    return fn(*args)\n",
            "  File \"/home/sachinks/anaconda3/envs/DEEPLABCUT/lib/python3.8/site-packages/tensorflow/python/client/session.py\", line 1361, in _run_fn\n",
            "    return self._call_tf_sessionrun(options, feed_dict, fetch_list,\n",
            "  File \"/home/sachinks/anaconda3/envs/DEEPLABCUT/lib/python3.8/site-packages/tensorflow/python/client/session.py\", line 1454, in _call_tf_sessionrun\n",
            "    return tf_session.TF_SessionRun_wrapper(self._session, options, feed_dict,\n",
            "tensorflow.python.framework.errors_impl.CancelledError: Enqueue operation was cancelled\n",
            "\t [[{{node fifo_queue_enqueue}}]]\n",
            "\n",
            "During handling of the above exception, another exception occurred:\n",
            "\n",
            "Traceback (most recent call last):\n",
            "  File \"/home/sachinks/anaconda3/envs/DEEPLABCUT/lib/python3.8/threading.py\", line 932, in _bootstrap_inner\n",
            "    self.run()\n",
            "  File \"/home/sachinks/anaconda3/envs/DEEPLABCUT/lib/python3.8/threading.py\", line 870, in run\n",
            "    self._target(*self._args, **self._kwargs)\n",
            "  File \"/home/sachinks/anaconda3/envs/DEEPLABCUT/lib/python3.8/site-packages/deeplabcut/pose_estimation_tensorflow/core/train.py\", line 85, in load_and_enqueue\n",
            "    sess.run(enqueue_op, feed_dict=food)\n",
            "  File \"/home/sachinks/anaconda3/envs/DEEPLABCUT/lib/python3.8/site-packages/tensorflow/python/client/session.py\", line 968, in run\n",
            "    result = self._run(None, fetches, feed_dict, options_ptr,\n",
            "  File \"/home/sachinks/anaconda3/envs/DEEPLABCUT/lib/python3.8/site-packages/tensorflow/python/client/session.py\", line 1191, in _run\n",
            "    results = self._do_run(handle, final_targets, final_fetches,\n",
            "  File \"/home/sachinks/anaconda3/envs/DEEPLABCUT/lib/python3.8/site-packages/tensorflow/python/client/session.py\", line 1371, in _do_run\n",
            "    return self._do_call(_run_fn, feeds, fetches, targets, options,\n",
            "  File \"/home/sachinks/anaconda3/envs/DEEPLABCUT/lib/python3.8/site-packages/tensorflow/python/client/session.py\", line 1397, in _do_call\n",
            "    raise type(e)(node_def, op, message)  # pylint: disable=no-value-for-parameter\n",
            "tensorflow.python.framework.errors_impl.CancelledError: Graph execution error:\n",
            "\n",
            "Detected at node 'fifo_queue_enqueue' defined at (most recent call last):\n",
            "    File \"/home/sachinks/anaconda3/envs/DEEPLABCUT/lib/python3.8/runpy.py\", line 194, in _run_module_as_main\n",
            "      return _run_code(code, main_globals, None,\n",
            "    File \"/home/sachinks/anaconda3/envs/DEEPLABCUT/lib/python3.8/runpy.py\", line 87, in _run_code\n",
            "      exec(code, run_globals)\n",
            "    File \"/home/sachinks/anaconda3/envs/DEEPLABCUT/lib/python3.8/site-packages/ipykernel_launcher.py\", line 17, in <module>\n",
            "      app.launch_new_instance()\n",
            "    File \"/home/sachinks/anaconda3/envs/DEEPLABCUT/lib/python3.8/site-packages/traitlets/config/application.py\", line 1043, in launch_instance\n",
            "      app.start()\n",
            "    File \"/home/sachinks/anaconda3/envs/DEEPLABCUT/lib/python3.8/site-packages/ipykernel/kernelapp.py\", line 725, in start\n",
            "      self.io_loop.start()\n",
            "    File \"/home/sachinks/anaconda3/envs/DEEPLABCUT/lib/python3.8/site-packages/tornado/platform/asyncio.py\", line 195, in start\n",
            "      self.asyncio_loop.run_forever()\n",
            "    File \"/home/sachinks/anaconda3/envs/DEEPLABCUT/lib/python3.8/asyncio/base_events.py\", line 570, in run_forever\n",
            "      self._run_once()\n",
            "    File \"/home/sachinks/anaconda3/envs/DEEPLABCUT/lib/python3.8/asyncio/base_events.py\", line 1859, in _run_once\n",
            "      handle._run()\n",
            "    File \"/home/sachinks/anaconda3/envs/DEEPLABCUT/lib/python3.8/asyncio/events.py\", line 81, in _run\n",
            "      self._context.run(self._callback, *self._args)\n",
            "    File \"/home/sachinks/anaconda3/envs/DEEPLABCUT/lib/python3.8/site-packages/ipykernel/kernelbase.py\", line 513, in dispatch_queue\n",
            "      await self.process_one()\n",
            "    File \"/home/sachinks/anaconda3/envs/DEEPLABCUT/lib/python3.8/site-packages/ipykernel/kernelbase.py\", line 502, in process_one\n",
            "      await dispatch(*args)\n",
            "    File \"/home/sachinks/anaconda3/envs/DEEPLABCUT/lib/python3.8/site-packages/ipykernel/kernelbase.py\", line 409, in dispatch_shell\n",
            "      await result\n",
            "    File \"/home/sachinks/anaconda3/envs/DEEPLABCUT/lib/python3.8/site-packages/ipykernel/kernelbase.py\", line 729, in execute_request\n",
            "      reply_content = await reply_content\n",
            "    File \"/home/sachinks/anaconda3/envs/DEEPLABCUT/lib/python3.8/site-packages/ipykernel/ipkernel.py\", line 422, in do_execute\n",
            "      res = shell.run_cell(\n",
            "    File \"/home/sachinks/anaconda3/envs/DEEPLABCUT/lib/python3.8/site-packages/ipykernel/zmqshell.py\", line 540, in run_cell\n",
            "      return super().run_cell(*args, **kwargs)\n",
            "    File \"/home/sachinks/anaconda3/envs/DEEPLABCUT/lib/python3.8/site-packages/IPython/core/interactiveshell.py\", line 3009, in run_cell\n",
            "      result = self._run_cell(\n",
            "    File \"/home/sachinks/anaconda3/envs/DEEPLABCUT/lib/python3.8/site-packages/IPython/core/interactiveshell.py\", line 3064, in _run_cell\n",
            "      result = runner(coro)\n",
            "    File \"/home/sachinks/anaconda3/envs/DEEPLABCUT/lib/python3.8/site-packages/IPython/core/async_helpers.py\", line 129, in _pseudo_sync_runner\n",
            "      coro.send(None)\n",
            "    File \"/home/sachinks/anaconda3/envs/DEEPLABCUT/lib/python3.8/site-packages/IPython/core/interactiveshell.py\", line 3269, in run_cell_async\n",
            "      has_raised = await self.run_ast_nodes(code_ast.body, cell_name,\n",
            "    File \"/home/sachinks/anaconda3/envs/DEEPLABCUT/lib/python3.8/site-packages/IPython/core/interactiveshell.py\", line 3448, in run_ast_nodes\n",
            "      if await self.run_code(code, result, async_=asy):\n",
            "    File \"/home/sachinks/anaconda3/envs/DEEPLABCUT/lib/python3.8/site-packages/IPython/core/interactiveshell.py\", line 3508, in run_code\n",
            "      exec(code_obj, self.user_global_ns, self.user_ns)\n",
            "    File \"/tmp/ipykernel_33931/2870585150.py\", line 1, in <module>\n",
            "      deeplabcut.train_network(path_config_file, shuffle=1, displayiters=1000,saveiters=10000, maxiters=150_000,\n",
            "    File \"/home/sachinks/anaconda3/envs/DEEPLABCUT/lib/python3.8/site-packages/deeplabcut/pose_estimation_tensorflow/training.py\", line 212, in train_network\n",
            "      train(\n",
            "    File \"/home/sachinks/anaconda3/envs/DEEPLABCUT/lib/python3.8/site-packages/deeplabcut/pose_estimation_tensorflow/core/train.py\", line 171, in train\n",
            "      batch, enqueue_op, placeholders = setup_preloading(batch_spec)\n",
            "    File \"/home/sachinks/anaconda3/envs/DEEPLABCUT/lib/python3.8/site-packages/deeplabcut/pose_estimation_tensorflow/core/train.py\", line 71, in setup_preloading\n",
            "      enqueue_op = q.enqueue(placeholders_list)\n",
            "Node: 'fifo_queue_enqueue'\n",
            "Enqueue operation was cancelled\n",
            "\t [[{{node fifo_queue_enqueue}}]]\n",
            "\n",
            "Original stack trace for 'fifo_queue_enqueue':\n",
            "  File \"/home/sachinks/anaconda3/envs/DEEPLABCUT/lib/python3.8/runpy.py\", line 194, in _run_module_as_main\n",
            "    return _run_code(code, main_globals, None,\n",
            "  File \"/home/sachinks/anaconda3/envs/DEEPLABCUT/lib/python3.8/runpy.py\", line 87, in _run_code\n",
            "    exec(code, run_globals)\n",
            "  File \"/home/sachinks/anaconda3/envs/DEEPLABCUT/lib/python3.8/site-packages/ipykernel_launcher.py\", line 17, in <module>\n",
            "    app.launch_new_instance()\n",
            "  File \"/home/sachinks/anaconda3/envs/DEEPLABCUT/lib/python3.8/site-packages/traitlets/config/application.py\", line 1043, in launch_instance\n",
            "    app.start()\n",
            "  File \"/home/sachinks/anaconda3/envs/DEEPLABCUT/lib/python3.8/site-packages/ipykernel/kernelapp.py\", line 725, in start\n",
            "    self.io_loop.start()\n",
            "  File \"/home/sachinks/anaconda3/envs/DEEPLABCUT/lib/python3.8/site-packages/tornado/platform/asyncio.py\", line 195, in start\n",
            "    self.asyncio_loop.run_forever()\n",
            "  File \"/home/sachinks/anaconda3/envs/DEEPLABCUT/lib/python3.8/asyncio/base_events.py\", line 570, in run_forever\n",
            "    self._run_once()\n",
            "  File \"/home/sachinks/anaconda3/envs/DEEPLABCUT/lib/python3.8/asyncio/base_events.py\", line 1859, in _run_once\n",
            "    handle._run()\n",
            "  File \"/home/sachinks/anaconda3/envs/DEEPLABCUT/lib/python3.8/asyncio/events.py\", line 81, in _run\n",
            "    self._context.run(self._callback, *self._args)\n",
            "  File \"/home/sachinks/anaconda3/envs/DEEPLABCUT/lib/python3.8/site-packages/ipykernel/kernelbase.py\", line 513, in dispatch_queue\n",
            "    await self.process_one()\n",
            "  File \"/home/sachinks/anaconda3/envs/DEEPLABCUT/lib/python3.8/site-packages/ipykernel/kernelbase.py\", line 502, in process_one\n",
            "    await dispatch(*args)\n",
            "  File \"/home/sachinks/anaconda3/envs/DEEPLABCUT/lib/python3.8/site-packages/ipykernel/kernelbase.py\", line 409, in dispatch_shell\n",
            "    await result\n",
            "  File \"/home/sachinks/anaconda3/envs/DEEPLABCUT/lib/python3.8/site-packages/ipykernel/kernelbase.py\", line 729, in execute_request\n",
            "    reply_content = await reply_content\n",
            "  File \"/home/sachinks/anaconda3/envs/DEEPLABCUT/lib/python3.8/site-packages/ipykernel/ipkernel.py\", line 422, in do_execute\n",
            "    res = shell.run_cell(\n",
            "  File \"/home/sachinks/anaconda3/envs/DEEPLABCUT/lib/python3.8/site-packages/ipykernel/zmqshell.py\", line 540, in run_cell\n",
            "    return super().run_cell(*args, **kwargs)\n",
            "  File \"/home/sachinks/anaconda3/envs/DEEPLABCUT/lib/python3.8/site-packages/IPython/core/interactiveshell.py\", line 3009, in run_cell\n",
            "    result = self._run_cell(\n",
            "  File \"/home/sachinks/anaconda3/envs/DEEPLABCUT/lib/python3.8/site-packages/IPython/core/interactiveshell.py\", line 3064, in _run_cell\n",
            "    result = runner(coro)\n",
            "  File \"/home/sachinks/anaconda3/envs/DEEPLABCUT/lib/python3.8/site-packages/IPython/core/async_helpers.py\", line 129, in _pseudo_sync_runner\n",
            "    coro.send(None)\n",
            "  File \"/home/sachinks/anaconda3/envs/DEEPLABCUT/lib/python3.8/site-packages/IPython/core/interactiveshell.py\", line 3269, in run_cell_async\n",
            "    has_raised = await self.run_ast_nodes(code_ast.body, cell_name,\n",
            "  File \"/home/sachinks/anaconda3/envs/DEEPLABCUT/lib/python3.8/site-packages/IPython/core/interactiveshell.py\", line 3448, in run_ast_nodes\n",
            "    if await self.run_code(code, result, async_=asy):\n",
            "  File \"/home/sachinks/anaconda3/envs/DEEPLABCUT/lib/python3.8/site-packages/IPython/core/interactiveshell.py\", line 3508, in run_code\n",
            "    exec(code_obj, self.user_global_ns, self.user_ns)\n",
            "  File \"/tmp/ipykernel_33931/2870585150.py\", line 1, in <module>\n",
            "    deeplabcut.train_network(path_config_file, shuffle=1, displayiters=1000,saveiters=10000, maxiters=150_000,\n",
            "  File \"/home/sachinks/anaconda3/envs/DEEPLABCUT/lib/python3.8/site-packages/deeplabcut/pose_estimation_tensorflow/training.py\", line 212, in train_network\n",
            "    train(\n",
            "  File \"/home/sachinks/anaconda3/envs/DEEPLABCUT/lib/python3.8/site-packages/deeplabcut/pose_estimation_tensorflow/core/train.py\", line 171, in train\n",
            "    batch, enqueue_op, placeholders = setup_preloading(batch_spec)\n",
            "  File \"/home/sachinks/anaconda3/envs/DEEPLABCUT/lib/python3.8/site-packages/deeplabcut/pose_estimation_tensorflow/core/train.py\", line 71, in setup_preloading\n",
            "    enqueue_op = q.enqueue(placeholders_list)\n",
            "  File \"/home/sachinks/anaconda3/envs/DEEPLABCUT/lib/python3.8/site-packages/tensorflow/python/ops/data_flow_ops.py\", line 346, in enqueue\n",
            "    return gen_data_flow_ops.queue_enqueue_v2(\n",
            "  File \"/home/sachinks/anaconda3/envs/DEEPLABCUT/lib/python3.8/site-packages/tensorflow/python/ops/gen_data_flow_ops.py\", line 4063, in queue_enqueue_v2\n",
            "    _, _, _op, _outputs = _op_def_library._apply_op_helper(\n",
            "  File \"/home/sachinks/anaconda3/envs/DEEPLABCUT/lib/python3.8/site-packages/tensorflow/python/framework/op_def_library.py\", line 797, in _apply_op_helper\n",
            "    op = g._create_op_internal(op_type_name, inputs, dtypes=None,\n",
            "  File \"/home/sachinks/anaconda3/envs/DEEPLABCUT/lib/python3.8/site-packages/tensorflow/python/framework/ops.py\", line 3800, in _create_op_internal\n",
            "    ret = Operation(\n",
            "\n"
          ]
        },
        {
          "name": "stdout",
          "output_type": "stream",
          "text": [
            "The network is now trained and ready to evaluate. Use the function 'evaluate_network' to evaluate the network.\n"
          ]
        }
      ],
      "source": [
        "deeplabcut.train_network(path_config_file, shuffle=1, displayiters=1000,saveiters=10000, maxiters=150_000,\n",
        "                         max_snapshots_to_keep=2)"
      ]
    },
    {
      "cell_type": "code",
      "execution_count": 5,
      "metadata": {
        "colab": {
          "base_uri": "https://localhost:8080/",
          "height": 309
        },
        "id": "nv4zlbrnoEJg",
        "outputId": "5c89dfdc-0889-46c3-ad97-16042b1c423f"
      },
      "outputs": [
        {
          "name": "stderr",
          "output_type": "stream",
          "text": [
            "Config:\n",
            "{'all_joints': [[0], [1], [2], [3], [4]],\n",
            " 'all_joints_names': ['b1', 'b2', 'b3', 'b4', 'b5'],\n",
            " 'batch_size': 1,\n",
            " 'crop_pad': 0,\n",
            " 'dataset': 'training-datasets/iteration-0/UnaugmentedDataSet_Tent6Jun6/Tent6_Sachin95shuffle1.mat',\n",
            " 'dataset_type': 'imgaug',\n",
            " 'deterministic': False,\n",
            " 'fg_fraction': 0.25,\n",
            " 'global_scale': 0.8,\n",
            " 'init_weights': '/home/sachinks/anaconda3/envs/DEEPLABCUT/lib/python3.8/site-packages/deeplabcut/pose_estimation_tensorflow/models/pretrained/resnet_v1_50.ckpt',\n",
            " 'intermediate_supervision': False,\n",
            " 'intermediate_supervision_layer': 12,\n",
            " 'location_refinement': True,\n",
            " 'locref_huber_loss': True,\n",
            " 'locref_loss_weight': 1.0,\n",
            " 'locref_stdev': 7.2801,\n",
            " 'log_dir': 'log',\n",
            " 'mean_pixel': [123.68, 116.779, 103.939],\n",
            " 'mirror': False,\n",
            " 'net_type': 'resnet_50',\n",
            " 'num_joints': 5,\n",
            " 'optimizer': 'sgd',\n",
            " 'pairwise_huber_loss': True,\n",
            " 'pairwise_predict': False,\n",
            " 'partaffinityfield_predict': False,\n",
            " 'regularize': False,\n",
            " 'scoremap_dir': 'test',\n",
            " 'shuffle': True,\n",
            " 'snapshot_prefix': '/home/sachinks/Code/MyProjects/Tent6-Sachin-2023-06-06/dlc-models/iteration-0/Tent6Jun6-trainset95shuffle1/test/snapshot',\n",
            " 'stride': 8.0,\n",
            " 'weigh_negatives': False,\n",
            " 'weigh_only_present_joints': False,\n",
            " 'weigh_part_predictions': False,\n",
            " 'weight_decay': 0.0001}\n",
            "/home/sachinks/anaconda3/envs/DEEPLABCUT/lib/python3.8/site-packages/tensorflow/python/keras/engine/base_layer_v1.py:1694: UserWarning: `layer.apply` is deprecated and will be removed in a future version. Please use `layer.__call__` method instead.\n",
            "  warnings.warn('`layer.apply` is deprecated and '\n"
          ]
        },
        {
          "name": "stdout",
          "output_type": "stream",
          "text": [
            "Running  DLC_resnet50_Tent6Jun6shuffle1_150000  with # of training iterations: 150000\n",
            "Running evaluation ...\n"
          ]
        },
        {
          "name": "stderr",
          "output_type": "stream",
          "text": [
            "135it [00:39,  3.45it/s]\n"
          ]
        },
        {
          "name": "stdout",
          "output_type": "stream",
          "text": [
            "Analysis is done and the results are stored (see evaluation-results) for snapshot:  snapshot-150000\n",
            "Results for 150000  training iterations: 95 1 train error: 2.65 pixels. Test error: 6.3  pixels.\n",
            "With pcutoff of 0.5  train error: 2.65 pixels. Test error: 6.04 pixels\n",
            "Thereby, the errors are given by the average distances between the labels by DLC and the scorer.\n",
            "Plotting...\n"
          ]
        },
        {
          "name": "stderr",
          "output_type": "stream",
          "text": [
            "100%|██████████| 135/135 [00:31<00:00,  4.23it/s]"
          ]
        },
        {
          "name": "stdout",
          "output_type": "stream",
          "text": [
            "The network is evaluated and the results are stored in the subdirectory 'evaluation_results'.\n",
            "Please check the results, then choose the best model (snapshot) for prediction. You can update the config.yaml file with the appropriate index for the 'snapshotindex'.\n",
            "Use the function 'analyze_video' to make predictions on new videos.\n",
            "Otherwise, consider adding more labeled-data and retraining the network (see DeepLabCut workflow Fig 2, Nath 2019)\n"
          ]
        },
        {
          "name": "stderr",
          "output_type": "stream",
          "text": [
            "\n"
          ]
        },
        {
          "data": {
            "image/png": "[encoded data removed]",
            "text/plain": [
              "<Figure size 640x480 with 1 Axes>"
            ]
          },
          "metadata": {},
          "output_type": "display_data"
        }
      ],
      "source": [
        "deeplabcut.evaluate_network(path_config_file,plotting=True)"
      ]
    },
    {
      "cell_type": "code",
      "execution_count": 6,
      "metadata": {
        "colab": {
          "base_uri": "https://localhost:8080/",
          "height": 1000
        },
        "id": "Y_LZiS_0oEJl",
        "outputId": "3ec0f166-c64b-4759-88a4-324677ccebfc"
      },
      "outputs": [
        {
          "name": "stderr",
          "output_type": "stream",
          "text": [
            "Config:\n",
            "{'all_joints': [[0], [1], [2], [3], [4]],\n",
            " 'all_joints_names': ['b1', 'b2', 'b3', 'b4', 'b5'],\n",
            " 'batch_size': 1,\n",
            " 'crop_pad': 0,\n",
            " 'dataset': 'training-datasets/iteration-0/UnaugmentedDataSet_Tent6Jun6/Tent6_Sachin95shuffle1.mat',\n",
            " 'dataset_type': 'imgaug',\n",
            " 'deterministic': False,\n",
            " 'fg_fraction': 0.25,\n",
            " 'global_scale': 0.8,\n",
            " 'init_weights': '/home/sachinks/anaconda3/envs/DEEPLABCUT/lib/python3.8/site-packages/deeplabcut/pose_estimation_tensorflow/models/pretrained/resnet_v1_50.ckpt',\n",
            " 'intermediate_supervision': False,\n",
            " 'intermediate_supervision_layer': 12,\n",
            " 'location_refinement': True,\n",
            " 'locref_huber_loss': True,\n",
            " 'locref_loss_weight': 1.0,\n",
            " 'locref_stdev': 7.2801,\n",
            " 'log_dir': 'log',\n",
            " 'mean_pixel': [123.68, 116.779, 103.939],\n",
            " 'mirror': False,\n",
            " 'net_type': 'resnet_50',\n",
            " 'num_joints': 5,\n",
            " 'optimizer': 'sgd',\n",
            " 'pairwise_huber_loss': True,\n",
            " 'pairwise_predict': False,\n",
            " 'partaffinityfield_predict': False,\n",
            " 'regularize': False,\n",
            " 'scoremap_dir': 'test',\n",
            " 'shuffle': True,\n",
            " 'snapshot_prefix': '/home/sachinks/Code/MyProjects/Tent6-Sachin-2023-06-06/dlc-models/iteration-0/Tent6Jun6-trainset95shuffle1/test/snapshot',\n",
            " 'stride': 8.0,\n",
            " 'weigh_negatives': False,\n",
            " 'weigh_only_present_joints': False,\n",
            " 'weigh_part_predictions': False,\n",
            " 'weight_decay': 0.0001}\n",
            "/home/sachinks/anaconda3/envs/DEEPLABCUT/lib/python3.8/site-packages/tensorflow/python/keras/engine/base_layer_v1.py:1694: UserWarning: `layer.apply` is deprecated and will be removed in a future version. Please use `layer.__call__` method instead.\n",
            "  warnings.warn('`layer.apply` is deprecated and '\n"
          ]
        },
        {
          "name": "stdout",
          "output_type": "stream",
          "text": [
            "Using snapshot-150000 for model /home/sachinks/Code/MyProjects/Tent6-Sachin-2023-06-06/dlc-models/iteration-0/Tent6Jun6-trainset95shuffle1\n",
            "Analyzing all the videos in the directory...\n",
            "Starting to analyze %  /home/sachinks/Code/MyProjects/videos-to-analyze/original/distal_pinch_220303_115402.mp4\n",
            "Loading  /home/sachinks/Code/MyProjects/videos-to-analyze/original/distal_pinch_220303_115402.mp4\n",
            "Duration of video [s]:  49.59 , recorded with  30.03 fps!\n",
            "Overall # of frames:  1489  found with (before cropping) frame dimensions:  1920 1080\n",
            "Starting to extract posture\n"
          ]
        },
        {
          "name": "stderr",
          "output_type": "stream",
          "text": [
            "100%|██████████| 1489/1489 [15:38<00:00,  1.59it/s]\n"
          ]
        },
        {
          "name": "stdout",
          "output_type": "stream",
          "text": [
            "Saving results in /home/sachinks/Code/MyProjects/videos-to-analyze/info/...\n",
            "Starting to analyze %  /home/sachinks/Code/MyProjects/videos-to-analyze/original/distal_pinch_to_check_reaction_220616_140209_000-1.mp4\n",
            "Loading  /home/sachinks/Code/MyProjects/videos-to-analyze/original/distal_pinch_to_check_reaction_220616_140209_000-1.mp4\n",
            "Duration of video [s]:  23.47 , recorded with  30.0 fps!\n",
            "Overall # of frames:  704  found with (before cropping) frame dimensions:  640 480\n",
            "Starting to extract posture\n"
          ]
        },
        {
          "name": "stderr",
          "output_type": "stream",
          "text": [
            "100%|██████████| 704/704 [01:06<00:00, 10.61it/s]\n"
          ]
        },
        {
          "name": "stdout",
          "output_type": "stream",
          "text": [
            "Saving results in /home/sachinks/Code/MyProjects/videos-to-analyze/info/...\n",
            "Starting to analyze %  /home/sachinks/Code/MyProjects/videos-to-analyze/original/distal_pinch_220712_121902_000-1.mp4\n",
            "Loading  /home/sachinks/Code/MyProjects/videos-to-analyze/original/distal_pinch_220712_121902_000-1.mp4\n",
            "Duration of video [s]:  30.53 , recorded with  30.0 fps!\n",
            "Overall # of frames:  916  found with (before cropping) frame dimensions:  640 480\n",
            "Starting to extract posture\n"
          ]
        },
        {
          "name": "stderr",
          "output_type": "stream",
          "text": [
            "100%|██████████| 916/916 [01:26<00:00, 10.62it/s]\n"
          ]
        },
        {
          "name": "stdout",
          "output_type": "stream",
          "text": [
            "Saving results in /home/sachinks/Code/MyProjects/videos-to-analyze/info/...\n",
            "Starting to analyze %  /home/sachinks/Code/MyProjects/videos-to-analyze/original/elec_distal_100Hz_5mA_220616_131207_000-1.mp4\n",
            "Loading  /home/sachinks/Code/MyProjects/videos-to-analyze/original/elec_distal_100Hz_5mA_220616_131207_000-1.mp4\n",
            "Duration of video [s]:  23.08 , recorded with  29.81 fps!\n",
            "Overall # of frames:  688  found with (before cropping) frame dimensions:  640 480\n",
            "Starting to extract posture\n"
          ]
        },
        {
          "name": "stderr",
          "output_type": "stream",
          "text": [
            "100%|██████████| 688/688 [01:04<00:00, 10.65it/s]\n"
          ]
        },
        {
          "name": "stdout",
          "output_type": "stream",
          "text": [
            "Saving results in /home/sachinks/Code/MyProjects/videos-to-analyze/info/...\n",
            "Starting to analyze %  /home/sachinks/Code/MyProjects/videos-to-analyze/original/distal_pinch_220303_115513.mp4\n",
            "Loading  /home/sachinks/Code/MyProjects/videos-to-analyze/original/distal_pinch_220303_115513.mp4\n",
            "Duration of video [s]:  49.57 , recorded with  30.02 fps!\n",
            "Overall # of frames:  1488  found with (before cropping) frame dimensions:  1920 1080\n",
            "Starting to extract posture\n"
          ]
        },
        {
          "name": "stderr",
          "output_type": "stream",
          "text": [
            "100%|██████████| 1488/1488 [15:33<00:00,  1.59it/s]\n"
          ]
        },
        {
          "name": "stdout",
          "output_type": "stream",
          "text": [
            "Saving results in /home/sachinks/Code/MyProjects/videos-to-analyze/info/...\n",
            "Starting to analyze %  /home/sachinks/Code/MyProjects/videos-to-analyze/original/distal_sucker_pinch_220303_121820.mp4\n",
            "Loading  /home/sachinks/Code/MyProjects/videos-to-analyze/original/distal_sucker_pinch_220303_121820.mp4\n",
            "Duration of video [s]:  47.36 , recorded with  30.02 fps!\n",
            "Overall # of frames:  1422  found with (before cropping) frame dimensions:  1920 1080\n",
            "Starting to extract posture\n"
          ]
        },
        {
          "name": "stderr",
          "output_type": "stream",
          "text": [
            "100%|██████████| 1422/1422 [14:54<00:00,  1.59it/s]\n"
          ]
        },
        {
          "name": "stdout",
          "output_type": "stream",
          "text": [
            "Saving results in /home/sachinks/Code/MyProjects/videos-to-analyze/info/...\n",
            "Starting to analyze %  /home/sachinks/Code/MyProjects/videos-to-analyze/original/distal_pinch_220916_115308_000-1.mp4\n",
            "Loading  /home/sachinks/Code/MyProjects/videos-to-analyze/original/distal_pinch_220916_115308_000-1.mp4\n",
            "Duration of video [s]:  27.36 , recorded with  30.0 fps!\n",
            "Overall # of frames:  821  found with (before cropping) frame dimensions:  640 480\n",
            "Starting to extract posture\n"
          ]
        },
        {
          "name": "stderr",
          "output_type": "stream",
          "text": [
            "100%|██████████| 821/821 [01:16<00:00, 10.66it/s]\n"
          ]
        },
        {
          "name": "stdout",
          "output_type": "stream",
          "text": [
            "Saving results in /home/sachinks/Code/MyProjects/videos-to-analyze/info/...\n",
            "Starting to analyze %  /home/sachinks/Code/MyProjects/videos-to-analyze/original/elec_distal_100Hz_5mA_220616_130314_000-1.mp4\n",
            "Loading  /home/sachinks/Code/MyProjects/videos-to-analyze/original/elec_distal_100Hz_5mA_220616_130314_000-1.mp4\n",
            "Duration of video [s]:  24.5 , recorded with  30.0 fps!\n",
            "Overall # of frames:  735  found with (before cropping) frame dimensions:  640 480\n",
            "Starting to extract posture\n"
          ]
        },
        {
          "name": "stderr",
          "output_type": "stream",
          "text": [
            "100%|██████████| 735/735 [01:09<00:00, 10.63it/s]\n"
          ]
        },
        {
          "name": "stdout",
          "output_type": "stream",
          "text": [
            "Saving results in /home/sachinks/Code/MyProjects/videos-to-analyze/info/...\n",
            "Starting to analyze %  /home/sachinks/Code/MyProjects/videos-to-analyze/original/distal_pinch_220712_121651_000-1.mp4\n",
            "Loading  /home/sachinks/Code/MyProjects/videos-to-analyze/original/distal_pinch_220712_121651_000-1.mp4\n",
            "Duration of video [s]:  28.0 , recorded with  30.0 fps!\n",
            "Overall # of frames:  840  found with (before cropping) frame dimensions:  640 480\n",
            "Starting to extract posture\n"
          ]
        },
        {
          "name": "stderr",
          "output_type": "stream",
          "text": [
            "100%|██████████| 840/840 [01:18<00:00, 10.65it/s]\n"
          ]
        },
        {
          "name": "stdout",
          "output_type": "stream",
          "text": [
            "Saving results in /home/sachinks/Code/MyProjects/videos-to-analyze/info/...\n",
            "Starting to analyze %  /home/sachinks/Code/MyProjects/videos-to-analyze/original/distal_sucker_pinch_220303_122627.mp4\n",
            "Loading  /home/sachinks/Code/MyProjects/videos-to-analyze/original/distal_sucker_pinch_220303_122627.mp4\n",
            "Duration of video [s]:  47.31 , recorded with  30.01 fps!\n",
            "Overall # of frames:  1420  found with (before cropping) frame dimensions:  1920 1080\n",
            "Starting to extract posture\n"
          ]
        },
        {
          "name": "stderr",
          "output_type": "stream",
          "text": [
            "100%|██████████| 1420/1420 [14:52<00:00,  1.59it/s]\n"
          ]
        },
        {
          "name": "stdout",
          "output_type": "stream",
          "text": [
            "Saving results in /home/sachinks/Code/MyProjects/videos-to-analyze/info/...\n",
            "Starting to analyze %  /home/sachinks/Code/MyProjects/videos-to-analyze/original/distal_pinch_220616_120052_000-1.mp4\n",
            "Loading  /home/sachinks/Code/MyProjects/videos-to-analyze/original/distal_pinch_220616_120052_000-1.mp4\n",
            "Duration of video [s]:  23.63 , recorded with  30.0 fps!\n",
            "Overall # of frames:  709  found with (before cropping) frame dimensions:  640 480\n",
            "Starting to extract posture\n"
          ]
        },
        {
          "name": "stderr",
          "output_type": "stream",
          "text": [
            "100%|██████████| 709/709 [01:06<00:00, 10.63it/s]\n"
          ]
        },
        {
          "name": "stdout",
          "output_type": "stream",
          "text": [
            "Saving results in /home/sachinks/Code/MyProjects/videos-to-analyze/info/...\n",
            "Starting to analyze %  /home/sachinks/Code/MyProjects/videos-to-analyze/original/distal_sucker_pinch_220303_122110.mp4\n",
            "Loading  /home/sachinks/Code/MyProjects/videos-to-analyze/original/distal_sucker_pinch_220303_122110.mp4\n",
            "Duration of video [s]:  37.84 , recorded with  30.02 fps!\n",
            "Overall # of frames:  1136  found with (before cropping) frame dimensions:  1920 1080\n",
            "Starting to extract posture\n"
          ]
        },
        {
          "name": "stderr",
          "output_type": "stream",
          "text": [
            "100%|██████████| 1136/1136 [11:52<00:00,  1.60it/s]\n"
          ]
        },
        {
          "name": "stdout",
          "output_type": "stream",
          "text": [
            "Saving results in /home/sachinks/Code/MyProjects/videos-to-analyze/info/...\n",
            "Starting to analyze %  /home/sachinks/Code/MyProjects/videos-to-analyze/original/elec_distal_100Hz_5mA_220616_125918_000-1.mp4\n",
            "Loading  /home/sachinks/Code/MyProjects/videos-to-analyze/original/elec_distal_100Hz_5mA_220616_125918_000-1.mp4\n",
            "Duration of video [s]:  24.53 , recorded with  30.0 fps!\n",
            "Overall # of frames:  736  found with (before cropping) frame dimensions:  640 480\n",
            "Starting to extract posture\n"
          ]
        },
        {
          "name": "stderr",
          "output_type": "stream",
          "text": [
            "100%|██████████| 736/736 [01:09<00:00, 10.61it/s]\n"
          ]
        },
        {
          "name": "stdout",
          "output_type": "stream",
          "text": [
            "Saving results in /home/sachinks/Code/MyProjects/videos-to-analyze/info/...\n",
            "Starting to analyze %  /home/sachinks/Code/MyProjects/videos-to-analyze/original/distal_pinch_220712_121401_000-1.mp4\n",
            "Loading  /home/sachinks/Code/MyProjects/videos-to-analyze/original/distal_pinch_220712_121401_000-1.mp4\n",
            "Duration of video [s]:  30.36 , recorded with  30.0 fps!\n",
            "Overall # of frames:  911  found with (before cropping) frame dimensions:  640 480\n",
            "Starting to extract posture\n"
          ]
        },
        {
          "name": "stderr",
          "output_type": "stream",
          "text": [
            "100%|██████████| 911/911 [01:25<00:00, 10.64it/s]"
          ]
        },
        {
          "name": "stdout",
          "output_type": "stream",
          "text": [
            "Saving results in /home/sachinks/Code/MyProjects/videos-to-analyze/info/...\n",
            "The videos are analyzed. Now your research can truly start! \n",
            " You can create labeled videos with 'create_labeled_video'\n",
            "If the tracking is not satisfactory for some videos, consider expanding the training set. You can use the function 'extract_outlier_frames' to extract a few representative outlier frames.\n"
          ]
        },
        {
          "name": "stderr",
          "output_type": "stream",
          "text": [
            "\n"
          ]
        },
        {
          "data": {
            "text/plain": [
              "'DLC_resnet50_Tent6Jun6shuffle1_150000'"
            ]
          },
          "execution_count": 6,
          "metadata": {},
          "output_type": "execute_result"
        }
      ],
      "source": [
        "deeplabcut.analyze_videos(path_config_file, video_orig_path, destfolder=video_info_path, videotype=VideoType)"
      ]
    },
    {
      "cell_type": "code",
      "execution_count": 7,
      "metadata": {
        "colab": {
          "base_uri": "https://localhost:8080/",
          "height": 307
        },
        "id": "gX21zZbXoEKJ",
        "outputId": "af3b0782-b863-4a7c-a261-5c583bbdeb3e"
      },
      "outputs": [
        {
          "name": "stdout",
          "output_type": "stream",
          "text": [
            "Analyzing all the videos in the directory...\n",
            "Loading  /home/sachinks/Code/MyProjects/videos-to-analyze/original/distal_pinch_220712_121651_000-1.mp4 and data.\n",
            "No unfiltered data file found in /home/sachinks/Code/MyProjects/videos-to-analyze/original for video distal_pinch_220712_121651_000-1 and scorer DLC_resnet50_Tent6Jun6shuffle1_150000.\n",
            "Loading  /home/sachinks/Code/MyProjects/videos-to-analyze/original/distal_pinch_220712_121902_000-1.mp4 and data.\n",
            "No unfiltered data file found in /home/sachinks/Code/MyProjects/videos-to-analyze/original for video distal_pinch_220712_121902_000-1 and scorer DLC_resnet50_Tent6Jun6shuffle1_150000.\n",
            "Loading  /home/sachinks/Code/MyProjects/videos-to-analyze/original/distal_pinch_220303_115513.mp4 and data.\n",
            "No unfiltered data file found in /home/sachinks/Code/MyProjects/videos-to-analyze/original for video distal_pinch_220303_115513 and scorer DLC_resnet50_Tent6Jun6shuffle1_150000.\n",
            "Loading  /home/sachinks/Code/MyProjects/videos-to-analyze/original/distal_sucker_pinch_220303_122627.mp4 and data.\n",
            "No unfiltered data file found in /home/sachinks/Code/MyProjects/videos-to-analyze/original for video distal_sucker_pinch_220303_122627 and scorer DLC_resnet50_Tent6Jun6shuffle1_150000.\n",
            "Loading  /home/sachinks/Code/MyProjects/videos-to-analyze/original/distal_sucker_pinch_220303_122110.mp4 and data.\n",
            "No unfiltered data file found in /home/sachinks/Code/MyProjects/videos-to-analyze/original for video distal_sucker_pinch_220303_122110 and scorer DLC_resnet50_Tent6Jun6shuffle1_150000.\n",
            "Loading  /home/sachinks/Code/MyProjects/videos-to-analyze/original/distal_sucker_pinch_220303_121820.mp4 and data.\n",
            "No unfiltered data file found in /home/sachinks/Code/MyProjects/videos-to-analyze/original for video distal_sucker_pinch_220303_121820 and scorer DLC_resnet50_Tent6Jun6shuffle1_150000.\n",
            "Loading  /home/sachinks/Code/MyProjects/videos-to-analyze/original/elec_distal_100Hz_5mA_220616_125918_000-1.mp4 and data.\n",
            "No unfiltered data file found in /home/sachinks/Code/MyProjects/videos-to-analyze/original for video elec_distal_100Hz_5mA_220616_125918_000-1 and scorer DLC_resnet50_Tent6Jun6shuffle1_150000.\n",
            "Loading  /home/sachinks/Code/MyProjects/videos-to-analyze/original/elec_distal_100Hz_5mA_220616_131207_000-1.mp4 and data.\n",
            "No unfiltered data file found in /home/sachinks/Code/MyProjects/videos-to-analyze/original for video elec_distal_100Hz_5mA_220616_131207_000-1 and scorer DLC_resnet50_Tent6Jun6shuffle1_150000.\n",
            "Loading  /home/sachinks/Code/MyProjects/videos-to-analyze/original/elec_distal_100Hz_5mA_220616_130314_000-1.mp4 and data.\n",
            "No unfiltered data file found in /home/sachinks/Code/MyProjects/videos-to-analyze/original for video elec_distal_100Hz_5mA_220616_130314_000-1 and scorer DLC_resnet50_Tent6Jun6shuffle1_150000.\n",
            "Loading  /home/sachinks/Code/MyProjects/videos-to-analyze/original/distal_pinch_to_check_reaction_220616_140209_000-1.mp4 and data.\n",
            "No unfiltered data file found in /home/sachinks/Code/MyProjects/videos-to-analyze/original for video distal_pinch_to_check_reaction_220616_140209_000-1 and scorer DLC_resnet50_Tent6Jun6shuffle1_150000.\n",
            "Loading  /home/sachinks/Code/MyProjects/videos-to-analyze/original/distal_pinch_220303_115402.mp4 and data.\n",
            "No unfiltered data file found in /home/sachinks/Code/MyProjects/videos-to-analyze/original for video distal_pinch_220303_115402 and scorer DLC_resnet50_Tent6Jun6shuffle1_150000.\n",
            "Loading  /home/sachinks/Code/MyProjects/videos-to-analyze/original/distal_pinch_220616_120052_000-1.mp4 and data.\n",
            "No unfiltered data file found in /home/sachinks/Code/MyProjects/videos-to-analyze/original for video distal_pinch_220616_120052_000-1 and scorer DLC_resnet50_Tent6Jun6shuffle1_150000.\n",
            "Loading  /home/sachinks/Code/MyProjects/videos-to-analyze/original/distal_pinch_220916_115308_000-1.mp4 and data.\n",
            "No unfiltered data file found in /home/sachinks/Code/MyProjects/videos-to-analyze/original for video distal_pinch_220916_115308_000-1 and scorer DLC_resnet50_Tent6Jun6shuffle1_150000.\n",
            "Loading  /home/sachinks/Code/MyProjects/videos-to-analyze/original/distal_pinch_220712_121401_000-1.mp4 and data.\n",
            "No unfiltered data file found in /home/sachinks/Code/MyProjects/videos-to-analyze/original for video distal_pinch_220712_121401_000-1 and scorer DLC_resnet50_Tent6Jun6shuffle1_150000.\n",
            "Plots could not be created for /home/sachinks/Code/MyProjects/videos-to-analyze/original/distal_pinch_220712_121651_000-1.mp4,/home/sachinks/Code/MyProjects/videos-to-analyze/original/distal_pinch_220712_121902_000-1.mp4,/home/sachinks/Code/MyProjects/videos-to-analyze/original/distal_pinch_220303_115513.mp4,/home/sachinks/Code/MyProjects/videos-to-analyze/original/distal_sucker_pinch_220303_122627.mp4,/home/sachinks/Code/MyProjects/videos-to-analyze/original/distal_sucker_pinch_220303_122110.mp4,/home/sachinks/Code/MyProjects/videos-to-analyze/original/distal_sucker_pinch_220303_121820.mp4,/home/sachinks/Code/MyProjects/videos-to-analyze/original/elec_distal_100Hz_5mA_220616_125918_000-1.mp4,/home/sachinks/Code/MyProjects/videos-to-analyze/original/elec_distal_100Hz_5mA_220616_131207_000-1.mp4,/home/sachinks/Code/MyProjects/videos-to-analyze/original/elec_distal_100Hz_5mA_220616_130314_000-1.mp4,/home/sachinks/Code/MyProjects/videos-to-analyze/original/distal_pinch_to_check_reaction_220616_140209_000-1.mp4,/home/sachinks/Code/MyProjects/videos-to-analyze/original/distal_pinch_220303_115402.mp4,/home/sachinks/Code/MyProjects/videos-to-analyze/original/distal_pinch_220616_120052_000-1.mp4,/home/sachinks/Code/MyProjects/videos-to-analyze/original/distal_pinch_220916_115308_000-1.mp4,/home/sachinks/Code/MyProjects/videos-to-analyze/original/distal_pinch_220712_121401_000-1.mp4. Videos were not evaluated with the current scorer DLC_resnet50_Tent6Jun6shuffle1_150000.\n"
          ]
        }
      ],
      "source": [
        "deeplabcut.plot_trajectories(path_config_file,video_orig_path, videotype=VideoType);"
      ]
    },
    {
      "cell_type": "code",
      "execution_count": 16,
      "metadata": {
        "colab": {
          "base_uri": "https://localhost:8080/"
        },
        "id": "6aDF7Q7KoEKE",
        "outputId": "fe593033-3134-44fb-b180-b04b5d5825ae"
      },
      "outputs": [
        {
          "name": "stdout",
          "output_type": "stream",
          "text": [
            "Analyzing all the videos in the directory...\n",
            "Starting to process video: /home/sachinks/Code/MyProjects/videos-to-analyze/original/distal_pinch_220616_120052_000-1.mp4Starting to process video: /home/sachinks/Code/MyProjects/videos-to-analyze/original/elec_distal_100Hz_5mA_220616_130314_000-1.mp4Starting to process video: /home/sachinks/Code/MyProjects/videos-to-analyze/original/distal_sucker_pinch_220303_121820.mp4Starting to process video: /home/sachinks/Code/MyProjects/videos-to-analyze/original/distal_pinch_220303_115402.mp4Starting to process video: /home/sachinks/Code/MyProjects/videos-to-analyze/original/distal_pinch_220916_115308_000-1.mp4Starting to process video: /home/sachinks/Code/MyProjects/videos-to-analyze/original/elec_distal_100Hz_5mA_220616_125918_000-1.mp4Starting to process video: /home/sachinks/Code/MyProjects/videos-to-analyze/original/distal_sucker_pinch_220303_122627.mp4Starting to process video: /home/sachinks/Code/MyProjects/videos-to-analyze/original/distal_pinch_220712_121401_000-1.mp4Starting to process video: /home/sachinks/Code/MyProjects/videos-to-analyze/original/distal_pinch_220712_121651_000-1.mp4Starting to process video: /home/sachinks/Code/MyProjects/videos-to-analyze/original/distal_pinch_220712_121902_000-1.mp4Starting to process video: /home/sachinks/Code/MyProjects/videos-to-analyze/original/distal_pinch_to_check_reaction_220616_140209_000-1.mp4Starting to process video: /home/sachinks/Code/MyProjects/videos-to-analyze/original/distal_sucker_pinch_220303_122110.mp4\n",
            "\n",
            "\n",
            "\n",
            "\n",
            "\n",
            "\n",
            "Loading /home/sachinks/Code/MyProjects/videos-to-analyze/original/distal_pinch_220616_120052_000-1.mp4 and data.Loading /home/sachinks/Code/MyProjects/videos-to-analyze/original/distal_pinch_220303_115402.mp4 and data.Loading /home/sachinks/Code/MyProjects/videos-to-analyze/original/distal_pinch_220916_115308_000-1.mp4 and data.Loading /home/sachinks/Code/MyProjects/videos-to-analyze/original/distal_sucker_pinch_220303_122627.mp4 and data.\n",
            "Loading /home/sachinks/Code/MyProjects/videos-to-analyze/original/elec_distal_100Hz_5mA_220616_130314_000-1.mp4 and data.Loading /home/sachinks/Code/MyProjects/videos-to-analyze/original/elec_distal_100Hz_5mA_220616_125918_000-1.mp4 and data.Loading /home/sachinks/Code/MyProjects/videos-to-analyze/original/distal_sucker_pinch_220303_121820.mp4 and data.\n",
            "\n",
            "\n",
            "\n",
            "\n",
            "\n",
            "\n",
            "\n",
            "\n",
            "\n",
            "\n",
            "Loading /home/sachinks/Code/MyProjects/videos-to-analyze/original/distal_pinch_220712_121401_000-1.mp4 and data.No unfiltered data file found in /home/sachinks/Code/MyProjects/videos-to-analyze/original for video distal_pinch_220916_115308_000-1 and scorer DLC_resnet50_Tent6Jun6shuffle1_150000.No unfiltered data file found in /home/sachinks/Code/MyProjects/videos-to-analyze/original for video distal_sucker_pinch_220303_122627 and scorer DLC_resnet50_Tent6Jun6shuffle1_150000.No unfiltered data file found in /home/sachinks/Code/MyProjects/videos-to-analyze/original for video distal_sucker_pinch_220303_121820 and scorer DLC_resnet50_Tent6Jun6shuffle1_150000.Loading /home/sachinks/Code/MyProjects/videos-to-analyze/original/distal_sucker_pinch_220303_122110.mp4 and data.No unfiltered data file found in /home/sachinks/Code/MyProjects/videos-to-analyze/original for video elec_distal_100Hz_5mA_220616_125918_000-1 and scorer DLC_resnet50_Tent6Jun6shuffle1_150000.No unfiltered data file found in /home/sachinks/Code/MyProjects/videos-to-analyze/original for video elec_distal_100Hz_5mA_220616_130314_000-1 and scorer DLC_resnet50_Tent6Jun6shuffle1_150000.\n",
            "No unfiltered data file found in /home/sachinks/Code/MyProjects/videos-to-analyze/original for video distal_pinch_220303_115402 and scorer DLC_resnet50_Tent6Jun6shuffle1_150000.Loading /home/sachinks/Code/MyProjects/videos-to-analyze/original/distal_pinch_to_check_reaction_220616_140209_000-1.mp4 and data.Loading /home/sachinks/Code/MyProjects/videos-to-analyze/original/distal_pinch_220712_121651_000-1.mp4 and data.No unfiltered data file found in /home/sachinks/Code/MyProjects/videos-to-analyze/original for video distal_pinch_220616_120052_000-1 and scorer DLC_resnet50_Tent6Jun6shuffle1_150000.\n",
            "\n",
            "\n",
            "Loading /home/sachinks/Code/MyProjects/videos-to-analyze/original/distal_pinch_220712_121902_000-1.mp4 and data.\n",
            "\n",
            "\n",
            "\n",
            "\n",
            "No unfiltered data file found in /home/sachinks/Code/MyProjects/videos-to-analyze/original for video distal_pinch_220712_121401_000-1 and scorer DLC_resnet50_Tent6Jun6shuffle1_150000.\n",
            "\n",
            "No unfiltered data file found in /home/sachinks/Code/MyProjects/videos-to-analyze/original for video distal_sucker_pinch_220303_122110 and scorer DLC_resnet50_Tent6Jun6shuffle1_150000.\n",
            "No unfiltered data file found in /home/sachinks/Code/MyProjects/videos-to-analyze/original for video distal_pinch_to_check_reaction_220616_140209_000-1 and scorer DLC_resnet50_Tent6Jun6shuffle1_150000.No unfiltered data file found in /home/sachinks/Code/MyProjects/videos-to-analyze/original for video distal_pinch_220712_121651_000-1 and scorer DLC_resnet50_Tent6Jun6shuffle1_150000.\n",
            "\n",
            "\n",
            "\n",
            "No unfiltered data file found in /home/sachinks/Code/MyProjects/videos-to-analyze/original for video distal_pinch_220712_121902_000-1 and scorer DLC_resnet50_Tent6Jun6shuffle1_150000.\n",
            "Starting to process video: /home/sachinks/Code/MyProjects/videos-to-analyze/original/distal_pinch_220303_115513.mp4\n",
            "Loading /home/sachinks/Code/MyProjects/videos-to-analyze/original/distal_pinch_220303_115513.mp4 and data.\n",
            "No unfiltered data file found in /home/sachinks/Code/MyProjects/videos-to-analyze/original for video distal_pinch_220303_115513 and scorer DLC_resnet50_Tent6Jun6shuffle1_150000.\n",
            "Starting to process video: /home/sachinks/Code/MyProjects/videos-to-analyze/original/elec_distal_100Hz_5mA_220616_131207_000-1.mp4\n",
            "Loading /home/sachinks/Code/MyProjects/videos-to-analyze/original/elec_distal_100Hz_5mA_220616_131207_000-1.mp4 and data.\n",
            "No unfiltered data file found in /home/sachinks/Code/MyProjects/videos-to-analyze/original for video elec_distal_100Hz_5mA_220616_131207_000-1 and scorer DLC_resnet50_Tent6Jun6shuffle1_150000.\n"
          ]
        },
        {
          "data": {
            "text/plain": [
              "[False,\n",
              " False,\n",
              " False,\n",
              " False,\n",
              " False,\n",
              " False,\n",
              " False,\n",
              " False,\n",
              " False,\n",
              " False,\n",
              " False,\n",
              " False,\n",
              " False,\n",
              " False]"
            ]
          },
          "execution_count": 16,
          "metadata": {},
          "output_type": "execute_result"
        }
      ],
      "source": [
        "deeplabcut.create_labeled_video(path_config_file,video_orig_path, videotype=VideoType) #, draw_skeleton=True) #, destfolder=video_label_path)"
      ]
    },
    {
      "cell_type": "code",
      "execution_count": 9,
      "metadata": {
        "colab": {
          "base_uri": "https://localhost:8080/"
        },
        "id": "qEonwOLpKFuJ",
        "outputId": "09ee75c0-de56-4c5d-aec3-db11653380f5"
      },
      "outputs": [
        {
          "name": "stderr",
          "output_type": "stream",
          "text": [
            "Config:\n",
            "{'all_joints': [[0], [1], [2], [3], [4]],\n",
            " 'all_joints_names': ['b1', 'b2', 'b3', 'b4', 'b5'],\n",
            " 'alpha_r': 0.02,\n",
            " 'apply_prob': 0.5,\n",
            " 'batch_size': 1,\n",
            " 'contrast': {'clahe': True,\n",
            "              'claheratio': 0.1,\n",
            "              'histeq': True,\n",
            "              'histeqratio': 0.1},\n",
            " 'convolution': {'edge': False,\n",
            "                 'emboss': {'alpha': [0.0, 1.0], 'strength': [0.5, 1.5]},\n",
            "                 'embossratio': 0.1,\n",
            "                 'sharpen': False,\n",
            "                 'sharpenratio': 0.3},\n",
            " 'crop_pad': 0,\n",
            " 'cropratio': 0.4,\n",
            " 'dataset': 'training-datasets/iteration-0/UnaugmentedDataSet_Tent6Jun6/Tent6_Sachin95shuffle1.mat',\n",
            " 'dataset_type': 'imgaug',\n",
            " 'decay_steps': 30000,\n",
            " 'deterministic': False,\n",
            " 'display_iters': 1000,\n",
            " 'fg_fraction': 0.25,\n",
            " 'global_scale': 0.8,\n",
            " 'init_weights': '/home/sachinks/anaconda3/envs/DEEPLABCUT/lib/python3.8/site-packages/deeplabcut/pose_estimation_tensorflow/models/pretrained/resnet_v1_50.ckpt',\n",
            " 'intermediate_supervision': False,\n",
            " 'intermediate_supervision_layer': 12,\n",
            " 'location_refinement': True,\n",
            " 'locref_huber_loss': True,\n",
            " 'locref_loss_weight': 0.05,\n",
            " 'locref_stdev': 7.2801,\n",
            " 'log_dir': 'log',\n",
            " 'lr_init': 0.0005,\n",
            " 'max_input_size': 1500,\n",
            " 'mean_pixel': [123.68, 116.779, 103.939],\n",
            " 'metadataset': 'training-datasets/iteration-0/UnaugmentedDataSet_Tent6Jun6/Documentation_data-Tent6_95shuffle1.pickle',\n",
            " 'min_input_size': 64,\n",
            " 'mirror': False,\n",
            " 'multi_stage': False,\n",
            " 'multi_step': [[0.005, 10000],\n",
            "                [0.02, 430000],\n",
            "                [0.002, 730000],\n",
            "                [0.001, 1030000]],\n",
            " 'net_type': 'resnet_50',\n",
            " 'num_joints': 5,\n",
            " 'optimizer': 'sgd',\n",
            " 'pairwise_huber_loss': False,\n",
            " 'pairwise_predict': False,\n",
            " 'partaffinityfield_predict': False,\n",
            " 'pos_dist_thresh': 17,\n",
            " 'project_path': '/home/sachinks/Code/MyProjects/Tent6-Sachin-2023-06-06',\n",
            " 'regularize': False,\n",
            " 'rotation': 25,\n",
            " 'rotratio': 0.4,\n",
            " 'save_iters': 50000,\n",
            " 'scale_jitter_lo': 0.5,\n",
            " 'scale_jitter_up': 1.25,\n",
            " 'scoremap_dir': 'test',\n",
            " 'shuffle': True,\n",
            " 'snapshot_prefix': '/home/sachinks/Code/MyProjects/Tent6-Sachin-2023-06-06/dlc-models/iteration-0/Tent6Jun6-trainset95shuffle1/train/snapshot',\n",
            " 'stride': 8.0,\n",
            " 'weigh_negatives': False,\n",
            " 'weigh_only_present_joints': False,\n",
            " 'weigh_part_predictions': False,\n",
            " 'weight_decay': 0.0001}\n",
            "/home/sachinks/anaconda3/envs/DEEPLABCUT/lib/python3.8/site-packages/tensorflow/python/keras/engine/base_layer_v1.py:1694: UserWarning: `layer.apply` is deprecated and will be removed in a future version. Please use `layer.__call__` method instead.\n",
            "  warnings.warn('`layer.apply` is deprecated and '\n"
          ]
        }
      ],
      "source": [
        "deeplabcut.export_model(path_config_file)"
      ]
    }
  ],
  "metadata": {
    "accelerator": "GPU",
    "colab": {
      "gpuType": "T4",
      "provenance": []
    },
    "kernelspec": {
      "display_name": "Python 3",
      "name": "python3"
    },
    "language_info": {
      "codemirror_mode": {
        "name": "ipython",
        "version": 3
      },
      "file_extension": ".py",
      "mimetype": "text/x-python",
      "name": "python",
      "nbconvert_exporter": "python",
      "pygments_lexer": "ipython3",
      "version": "3.8.16"
    },
    "vscode": {
      "interpreter": {
        "hash": "70cad038f2bddb56e8a0ba66c48b76ebce20579892bf83e71733a81977e3ceea"
      }
    }
  },
  "nbformat": 4,
  "nbformat_minor": 0
}
