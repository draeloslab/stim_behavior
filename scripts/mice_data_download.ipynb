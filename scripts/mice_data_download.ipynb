{
 "cells": [
  {
   "cell_type": "code",
   "execution_count": 1,
   "metadata": {},
   "outputs": [],
   "source": [
    "import sys\n",
    "sys.path.append('..')\n",
    "\n",
    "import yaml\n",
    "import os\n",
    "import requests"
   ]
  },
  {
   "cell_type": "code",
   "execution_count": 4,
   "metadata": {},
   "outputs": [
    {
     "data": {
      "text/plain": [
       "'/home/sachinks/Data/raw/'"
      ]
     },
     "execution_count": 4,
     "metadata": {},
     "output_type": "execute_result"
    }
   ],
   "source": [
    "with open(f'../configs/main.yaml', 'r') as file:\n",
    "    config = yaml.safe_load(file)\n",
    "data_config = config['path']['data']\n",
    "root_dir = data_config['root']\n",
    "rawdata_dir = f\"{root_dir}/{data_config['raw']}/\"\n",
    "rawdata_dir"
   ]
  },
  {
   "cell_type": "code",
   "execution_count": 6,
   "metadata": {},
   "outputs": [
    {
     "ename": "ModuleNotFoundError",
     "evalue": "No module named 'bs4'",
     "output_type": "error",
     "traceback": [
      "\u001b[0;31m---------------------------------------------------------------------------\u001b[0m",
      "\u001b[0;31mModuleNotFoundError\u001b[0m                       Traceback (most recent call last)",
      "\u001b[0;32m/tmp/ipykernel_264280/2026549407.py\u001b[0m in \u001b[0;36m<module>\u001b[0;34m\u001b[0m\n\u001b[1;32m     46\u001b[0m \u001b[0mlocal_directory\u001b[0m \u001b[0;34m=\u001b[0m \u001b[0mrawdata_dir\u001b[0m\u001b[0;34m\u001b[0m\u001b[0;34m\u001b[0m\u001b[0m\n\u001b[1;32m     47\u001b[0m \u001b[0;34m\u001b[0m\u001b[0m\n\u001b[0;32m---> 48\u001b[0;31m \u001b[0mdownload_directory\u001b[0m\u001b[0;34m(\u001b[0m\u001b[0msource_url\u001b[0m\u001b[0;34m,\u001b[0m \u001b[0mlocal_directory\u001b[0m\u001b[0;34m)\u001b[0m\u001b[0;34m\u001b[0m\u001b[0;34m\u001b[0m\u001b[0m\n\u001b[0m",
      "\u001b[0;32m/tmp/ipykernel_264280/2026549407.py\u001b[0m in \u001b[0;36mdownload_directory\u001b[0;34m(url, local_path)\u001b[0m\n\u001b[1;32m     19\u001b[0m \u001b[0;34m\u001b[0m\u001b[0m\n\u001b[1;32m     20\u001b[0m         \u001b[0;31m# Use a regular expression to find all anchor tags\u001b[0m\u001b[0;34m\u001b[0m\u001b[0;34m\u001b[0m\u001b[0;34m\u001b[0m\u001b[0m\n\u001b[0;32m---> 21\u001b[0;31m         \u001b[0;32mfrom\u001b[0m \u001b[0mbs4\u001b[0m \u001b[0;32mimport\u001b[0m \u001b[0mBeautifulSoup\u001b[0m\u001b[0;34m\u001b[0m\u001b[0;34m\u001b[0m\u001b[0m\n\u001b[0m\u001b[1;32m     22\u001b[0m         \u001b[0msoup\u001b[0m \u001b[0;34m=\u001b[0m \u001b[0mBeautifulSoup\u001b[0m\u001b[0;34m(\u001b[0m\u001b[0mpage_content\u001b[0m\u001b[0;34m,\u001b[0m \u001b[0;34m'html.parser'\u001b[0m\u001b[0;34m)\u001b[0m\u001b[0;34m\u001b[0m\u001b[0;34m\u001b[0m\u001b[0m\n\u001b[1;32m     23\u001b[0m         \u001b[0mlinks\u001b[0m \u001b[0;34m=\u001b[0m \u001b[0msoup\u001b[0m\u001b[0;34m.\u001b[0m\u001b[0mfind_all\u001b[0m\u001b[0;34m(\u001b[0m\u001b[0;34m'a'\u001b[0m\u001b[0;34m)\u001b[0m\u001b[0;34m\u001b[0m\u001b[0;34m\u001b[0m\u001b[0m\n",
      "\u001b[0;31mModuleNotFoundError\u001b[0m: No module named 'bs4'"
     ]
    }
   ],
   "source": [
    "import os\n",
    "import requests\n",
    "from urllib.parse import urljoin, urlparse\n",
    "\n",
    "def download_directory(url, local_path):\n",
    "    # Create the local directory if it doesn't exist\n",
    "    os.makedirs(local_path, exist_ok=True)\n",
    "\n",
    "    # Send an HTTP GET request to the URL\n",
    "    response = requests.get(url)\n",
    "\n",
    "    # Check if the request was successful (status code 200)\n",
    "    if response.status_code == 200:\n",
    "        # Parse the base URL for relative links\n",
    "        base_url = urlparse(url)\n",
    "\n",
    "        # Parse the HTML content of the page\n",
    "        page_content = response.text\n",
    "\n",
    "        # Use a regular expression to find all anchor tags\n",
    "        from bs4 import BeautifulSoup\n",
    "        soup = BeautifulSoup(page_content, 'html.parser')\n",
    "        links = soup.find_all('a')\n",
    "\n",
    "        # Iterate through the links and download files and subdirectories\n",
    "        for link in links:\n",
    "            href = link.get('href')\n",
    "            link_url = urljoin(base_url.geturl(), href)\n",
    "\n",
    "            # Create the local path by joining the local_path and the filename\n",
    "            local_file_path = os.path.join(local_path, os.path.basename(href))\n",
    "\n",
    "            # Check if the link points to a file or a subdirectory\n",
    "            if '.' in os.path.basename(href):\n",
    "                # Download the file\n",
    "                with open(local_file_path, 'wb') as file:\n",
    "                    file.write(requests.get(link_url).content)\n",
    "            else:\n",
    "                # Recursively download subdirectories\n",
    "                download_directory(link_url, local_file_path)\n",
    "    else:\n",
    "        print(f\"Failed to retrieve {url} - Status Code {response.status_code}\")\n",
    "\n",
    "# Specify the URL of the directory you want to download and the local directory where you want to save it\n",
    "source_url = \"https://labshare.cshl.edu/shares/library/repository/38599/2pData/\"\n",
    "local_directory = rawdata_dir\n",
    "\n",
    "download_directory(source_url, local_directory)\n"
   ]
  }
 ],
 "metadata": {
  "kernelspec": {
   "display_name": "dlc-live",
   "language": "python",
   "name": "python3"
  },
  "language_info": {
   "codemirror_mode": {
    "name": "ipython",
    "version": 3
   },
   "file_extension": ".py",
   "mimetype": "text/x-python",
   "name": "python",
   "nbconvert_exporter": "python",
   "pygments_lexer": "ipython3",
   "version": "3.7.16"
  },
  "orig_nbformat": 4
 },
 "nbformat": 4,
 "nbformat_minor": 2
}
